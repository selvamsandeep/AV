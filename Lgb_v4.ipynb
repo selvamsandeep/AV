{
 "cells": [
  {
   "cell_type": "code",
   "execution_count": 1,
   "metadata": {
    "collapsed": true
   },
   "outputs": [],
   "source": [
    "import pandas as pd\n",
    "import numpy as np\n",
    "import pandas_profiling as pd_pro\n",
    "import missingno as msno\n",
    "from sklearn.model_selection import train_test_split\n",
    "from sklearn.metrics import mean_squared_error\n",
    "from sklearn.preprocessing import LabelEncoder\n",
    "import gc\n",
    "import lightgbm as lgbm\n",
    "from sklearn import model_selection, preprocessing, ensemble"
   ]
  },
  {
   "cell_type": "code",
   "execution_count": 2,
   "metadata": {},
   "outputs": [
    {
     "name": "stderr",
     "output_type": "stream",
     "text": [
      "/usr/local/lib/python3.5/dist-packages/IPython/core/interactiveshell.py:2698: DtypeWarning: Columns (10) have mixed types. Specify dtype option on import or set low_memory=False.\n",
      "  interactivity=interactivity, compiler=compiler, result=result)\n"
     ]
    }
   ],
   "source": [
    "test = pd.read_csv('input/test.csv', parse_dates=['ClickDate'], \n",
    "                    dtype= { 'ID' : np.int32, \n",
    "                            'Carrier' : np.float32,                             \n",
    "                             #'publisherId' : np.int32,\n",
    "                            'advertiserCampaignId' : np.float32,\n",
    "                            'Fraud': np.float32},\n",
    "                     encoding='UTF-8')  \n",
    "                   "
   ]
  },
  {
   "cell_type": "code",
   "execution_count": 3,
   "metadata": {},
   "outputs": [
    {
     "data": {
      "text/plain": [
       "(25548873, 14)"
      ]
     },
     "execution_count": 3,
     "metadata": {},
     "output_type": "execute_result"
    }
   ],
   "source": [
    "test.shape"
   ]
  },
  {
   "cell_type": "code",
   "execution_count": 4,
   "metadata": {},
   "outputs": [
    {
     "data": {
      "text/plain": [
       "Index(['ID', 'Country', 'Carrier', 'TrafficType', 'ClickDate', 'Device',\n",
       "       'Browser', 'OS', 'RefererUrl', 'UserIp', 'publisherId',\n",
       "       'subPublisherId', 'advertiserCampaignId', 'Fraud'],\n",
       "      dtype='object')"
      ]
     },
     "execution_count": 4,
     "metadata": {},
     "output_type": "execute_result"
    }
   ],
   "source": [
    "test.columns"
   ]
  },
  {
   "cell_type": "code",
   "execution_count": 5,
   "metadata": {
    "collapsed": true
   },
   "outputs": [],
   "source": [
    "test_Id = test['ID'].values"
   ]
  },
  {
   "cell_type": "code",
   "execution_count": 6,
   "metadata": {},
   "outputs": [
    {
     "name": "stderr",
     "output_type": "stream",
     "text": [
      "/usr/local/lib/python3.5/dist-packages/IPython/core/interactiveshell.py:2698: DtypeWarning: Columns (13) have mixed types. Specify dtype option on import or set low_memory=False.\n",
      "  interactivity=interactivity, compiler=compiler, result=result)\n"
     ]
    }
   ],
   "source": [
    "#chunksize = 10 ** 7\n",
    "#chunks = pd.read_csv('input/train.csv', chunksize=chunksize)\n",
    "train = pd.read_csv('input/train.csv', parse_dates=['ClickDate'], \n",
    "                    dtype= { 'ID' : np.int32, \n",
    "                            'Carrier' : np.float32, \n",
    "                            'ConversionPayOut' : np.float32,\n",
    "                             #'publisherId' : np.int32,\n",
    "                            'advertiserCampaignId' : np.float32,\n",
    "                            'Fraud': np.float32},\n",
    "                     encoding='UTF-8',  \n",
    "                     nrows= 15000000)"
   ]
  },
  {
   "cell_type": "code",
   "execution_count": 7,
   "metadata": {
    "collapsed": true
   },
   "outputs": [],
   "source": [
    "#train.columns"
   ]
  },
  {
   "cell_type": "code",
   "execution_count": 8,
   "metadata": {
    "collapsed": true
   },
   "outputs": [],
   "source": [
    "#train.shape"
   ]
  },
  {
   "cell_type": "code",
   "execution_count": null,
   "metadata": {
    "collapsed": true
   },
   "outputs": [],
   "source": []
  },
  {
   "cell_type": "code",
   "execution_count": 9,
   "metadata": {
    "collapsed": true,
    "scrolled": true
   },
   "outputs": [],
   "source": [
    "len_train = train.shape[0]\n",
    "y_train = train.ConversionPayOut.values\n",
    "train.drop(['ConversionStatus','ConversionDate', 'ConversionPayOut'], inplace = True, axis=1)"
   ]
  },
  {
   "cell_type": "code",
   "execution_count": 10,
   "metadata": {
    "collapsed": true
   },
   "outputs": [],
   "source": [
    "data = pd.concat([train, test])"
   ]
  },
  {
   "cell_type": "code",
   "execution_count": 11,
   "metadata": {},
   "outputs": [
    {
     "data": {
      "text/plain": [
       "7"
      ]
     },
     "execution_count": 11,
     "metadata": {},
     "output_type": "execute_result"
    }
   ],
   "source": [
    "del train, test\n",
    "gc.collect()"
   ]
  },
  {
   "cell_type": "code",
   "execution_count": 12,
   "metadata": {
    "collapsed": true
   },
   "outputs": [],
   "source": [
    "data.Country.fillna('other', inplace = True)\n",
    "data.TrafficType.fillna('other', inplace = True)\n",
    "data.Device.fillna('other', inplace = True)\n",
    "data.Browser.fillna('other', inplace = True)\n",
    "data.OS.fillna('other', inplace = True)\n",
    "data.RefererUrl.fillna('other', inplace = True)\n",
    "data.subPublisherId.fillna('other', inplace = True)\n",
    "data['publisherId'] = pd.to_numeric(data['publisherId'], errors='coerce')\n",
    "data['subPublisherId'] = pd.to_numeric(data['subPublisherId'], errors='coerce')"
   ]
  },
  {
   "cell_type": "code",
   "execution_count": 13,
   "metadata": {
    "collapsed": true
   },
   "outputs": [],
   "source": [
    "cols_to_encode = ['Country',  'TrafficType', 'Device','Browser', 'OS', 'RefererUrl', 'UserIp', \n",
    "                 'subPublisherId','publisherId']\n",
    "le = LabelEncoder()\n",
    "for col in cols_to_encode:\n",
    "    data[col] = le.fit_transform(data[col])\n",
    "    "
   ]
  },
  {
   "cell_type": "code",
   "execution_count": 14,
   "metadata": {
    "collapsed": true
   },
   "outputs": [],
   "source": [
    "data['tweekday'] = data['ClickDate'].dt.weekday\n",
    "data['thour'] = data['ClickDate'].dt.hour\n",
    "data['tminute'] = data['ClickDate'].dt.minute"
   ]
  },
  {
   "cell_type": "code",
   "execution_count": 15,
   "metadata": {
    "collapsed": true
   },
   "outputs": [],
   "source": [
    "#data.head(5)"
   ]
  },
  {
   "cell_type": "code",
   "execution_count": 16,
   "metadata": {
    "collapsed": true
   },
   "outputs": [],
   "source": [
    "ref_url_cnt = data.groupby(['UserIp'])[ 'RefererUrl'].nunique().reset_index().rename(columns = {'RefererUrl': 'ref_url_cnt'})"
   ]
  },
  {
   "cell_type": "code",
   "execution_count": 17,
   "metadata": {
    "collapsed": true
   },
   "outputs": [],
   "source": [
    "pubId_cnt = data.groupby(['UserIp'])[ 'publisherId'].nunique().reset_index().rename(columns = {'publisherId': 'pubId_cnt'})"
   ]
  },
  {
   "cell_type": "code",
   "execution_count": 18,
   "metadata": {
    "collapsed": true
   },
   "outputs": [],
   "source": [
    "adv_comp_cnt = data.groupby(['UserIp'])[ 'advertiserCampaignId'].nunique().reset_index().\\\n",
    "                             rename(columns = {'advertiserCampaignId': 'compId_cnt'})"
   ]
  },
  {
   "cell_type": "code",
   "execution_count": 19,
   "metadata": {
    "collapsed": true
   },
   "outputs": [],
   "source": [
    "data = pd.merge(data, ref_url_cnt, how='left', on=['UserIp'])\n",
    "data = pd.merge(data, pubId_cnt, how='left', on=['UserIp'])\n",
    "data = pd.merge(data, adv_comp_cnt, how='left', on=['UserIp'])"
   ]
  },
  {
   "cell_type": "code",
   "execution_count": 20,
   "metadata": {},
   "outputs": [
    {
     "data": {
      "text/plain": [
       "147"
      ]
     },
     "execution_count": 20,
     "metadata": {},
     "output_type": "execute_result"
    }
   ],
   "source": [
    "del ref_url_cnt, pubId_cnt, adv_comp_cnt\n",
    "gc.collect()"
   ]
  },
  {
   "cell_type": "code",
   "execution_count": 21,
   "metadata": {
    "collapsed": true,
    "scrolled": true
   },
   "outputs": [],
   "source": [
    "data['refUrl_user_cnt'] = data.groupby(['RefererUrl'])['ID'].transform('count')"
   ]
  },
  {
   "cell_type": "code",
   "execution_count": 22,
   "metadata": {
    "collapsed": true
   },
   "outputs": [],
   "source": [
    "data['user_cnt'] = data.groupby(['UserIp'])['ID'].transform('count')"
   ]
  },
  {
   "cell_type": "code",
   "execution_count": 23,
   "metadata": {
    "collapsed": true
   },
   "outputs": [],
   "source": [
    "data['user_week_cnt'] = data.groupby(['UserIp', 'tweekday'])['ID'].transform('count')\n",
    "data['user_hr_cnt'] = data.groupby(['UserIp', 'tweekday', 'thour'])['ID'].transform('count')"
   ]
  },
  {
   "cell_type": "code",
   "execution_count": 24,
   "metadata": {
    "collapsed": true
   },
   "outputs": [],
   "source": [
    "data['user_refurl_share'] = data['user_cnt']/ data['ref_url_cnt']\n",
    "data['user_pubid_share'] = data['user_cnt']/ data['pubId_cnt']\n",
    "data['user_compid_share'] = data['user_cnt']/data['compId_cnt']"
   ]
  },
  {
   "cell_type": "code",
   "execution_count": 25,
   "metadata": {
    "collapsed": true
   },
   "outputs": [],
   "source": [
    "data.drop(['ID','ClickDate'], axis=1, inplace=True)\n",
    "train = data[:len_train]\n",
    "test = data[len_train:]\n"
   ]
  },
  {
   "cell_type": "code",
   "execution_count": 26,
   "metadata": {},
   "outputs": [
    {
     "data": {
      "text/plain": [
       "70"
      ]
     },
     "execution_count": 26,
     "metadata": {},
     "output_type": "execute_result"
    }
   ],
   "source": [
    "del data\n",
    "gc.collect()"
   ]
  },
  {
   "cell_type": "code",
   "execution_count": null,
   "metadata": {
    "collapsed": true
   },
   "outputs": [],
   "source": []
  },
  {
   "cell_type": "code",
   "execution_count": null,
   "metadata": {
    "collapsed": true
   },
   "outputs": [],
   "source": []
  },
  {
   "cell_type": "code",
   "execution_count": null,
   "metadata": {
    "collapsed": true
   },
   "outputs": [],
   "source": []
  },
  {
   "cell_type": "code",
   "execution_count": 44,
   "metadata": {
    "collapsed": true
   },
   "outputs": [],
   "source": [
    "def runLgb(train_X, train_y, valid_X, valid_y, feature_names=None, seed_val=0, num_boost_round=300):\n",
    "    params = {}\n",
    "    params['max_bin'] = 10\n",
    "    params['learning_rate'] = 0.0021 # shrinkage_rate\n",
    "    params['boosting_type'] = 'gbdt'\n",
    "    params['objective'] = 'regression'\n",
    "    params['metric'] = 'rmse'          # or 'mae'\n",
    "    params['sub_feature'] = 0.5      # feature_fraction \n",
    "    params['bagging_fraction'] = 0.85 # sub_row\n",
    "    params['bagging_freq'] = 40\n",
    "    params['num_leaves'] = 512        # num_leaf\n",
    "    params['min_data'] = 500         # min_data_in_leaf\n",
    "    params['min_hessian'] = 0.05     # min_sum_hessian_in_leaf\n",
    "\n",
    "   \n",
    "    #print (train_X.shape, train_y.shape, valid_X.shape, valid_y.shape)\n",
    "   \n",
    "    lgb_train = lgbm.Dataset(train_X, train_y)\n",
    "    lgb_valid = lgbm.Dataset(valid_X, valid_y, reference=lgb_train)    \n",
    "    \n",
    "   \n",
    "    watchlist = [lgb_valid ]\n",
    "    model = lgbm.train(params, lgb_train, num_boost_round, watchlist, early_stopping_rounds=20)\n",
    "    \n",
    "    pred_test_y = model.predict(valid_X)\n",
    "    del train_X, valid_X, train_y, valid_y,lgb_train,lgb_valid\n",
    "    gc.collect()\n",
    "    return pred_test_y, model"
   ]
  },
  {
   "cell_type": "code",
   "execution_count": null,
   "metadata": {},
   "outputs": [
    {
     "name": "stdout",
     "output_type": "stream",
     "text": [
      "[1]\tvalid_0's l2: 34.0453\n",
      "Training until validation scores don't improve for 20 rounds.\n",
      "[2]\tvalid_0's l2: 34.0453\n",
      "[3]\tvalid_0's l2: 34.0453\n",
      "[4]\tvalid_0's l2: 34.0452\n",
      "[5]\tvalid_0's l2: 34.0452\n",
      "[6]\tvalid_0's l2: 34.0452\n",
      "[7]\tvalid_0's l2: 34.0452\n",
      "[8]\tvalid_0's l2: 34.0451\n",
      "[9]\tvalid_0's l2: 34.0451\n",
      "[10]\tvalid_0's l2: 34.0451\n",
      "[11]\tvalid_0's l2: 34.0451\n",
      "[12]\tvalid_0's l2: 34.045\n",
      "[13]\tvalid_0's l2: 34.045\n",
      "[14]\tvalid_0's l2: 34.045\n",
      "[15]\tvalid_0's l2: 34.045\n",
      "[16]\tvalid_0's l2: 34.045\n",
      "[17]\tvalid_0's l2: 34.045\n",
      "[18]\tvalid_0's l2: 34.0449\n",
      "[19]\tvalid_0's l2: 34.0449\n",
      "[20]\tvalid_0's l2: 34.0449\n",
      "[21]\tvalid_0's l2: 34.0449\n",
      "[22]\tvalid_0's l2: 34.0448\n",
      "[23]\tvalid_0's l2: 34.0448\n",
      "[24]\tvalid_0's l2: 34.0448\n",
      "[25]\tvalid_0's l2: 34.0448\n",
      "[26]\tvalid_0's l2: 34.0447\n",
      "[27]\tvalid_0's l2: 34.0447\n",
      "[28]\tvalid_0's l2: 34.0447\n",
      "[29]\tvalid_0's l2: 34.0447\n",
      "[30]\tvalid_0's l2: 34.0447\n",
      "[31]\tvalid_0's l2: 34.0446\n",
      "[32]\tvalid_0's l2: 34.0446\n",
      "[33]\tvalid_0's l2: 34.0446\n",
      "[34]\tvalid_0's l2: 34.0446\n",
      "[35]\tvalid_0's l2: 34.0446\n",
      "[36]\tvalid_0's l2: 34.0446\n",
      "[37]\tvalid_0's l2: 34.0446\n",
      "[38]\tvalid_0's l2: 34.0445\n",
      "[39]\tvalid_0's l2: 34.0445\n",
      "[40]\tvalid_0's l2: 34.0445\n",
      "[41]\tvalid_0's l2: 34.0445\n",
      "[42]\tvalid_0's l2: 34.0444\n",
      "[43]\tvalid_0's l2: 34.0444\n",
      "[44]\tvalid_0's l2: 34.0444\n",
      "[45]\tvalid_0's l2: 34.0444\n",
      "[46]\tvalid_0's l2: 34.0444\n",
      "[47]\tvalid_0's l2: 34.0443\n",
      "[48]\tvalid_0's l2: 34.0443\n",
      "[49]\tvalid_0's l2: 34.0443\n",
      "[50]\tvalid_0's l2: 34.0443\n",
      "[51]\tvalid_0's l2: 34.0442\n",
      "[52]\tvalid_0's l2: 34.0442\n",
      "[53]\tvalid_0's l2: 34.0442\n",
      "[54]\tvalid_0's l2: 34.0442\n",
      "[55]\tvalid_0's l2: 34.0442\n",
      "[56]\tvalid_0's l2: 34.0442\n",
      "[57]\tvalid_0's l2: 34.0441\n",
      "[58]\tvalid_0's l2: 34.044\n",
      "[59]\tvalid_0's l2: 34.044\n",
      "[60]\tvalid_0's l2: 34.044\n",
      "[61]\tvalid_0's l2: 34.044\n",
      "[62]\tvalid_0's l2: 34.0439\n",
      "[63]\tvalid_0's l2: 34.0439\n",
      "[64]\tvalid_0's l2: 34.0439\n",
      "[65]\tvalid_0's l2: 34.0439\n",
      "[66]\tvalid_0's l2: 34.0438\n",
      "[67]\tvalid_0's l2: 34.0438\n",
      "[68]\tvalid_0's l2: 34.0438\n",
      "[69]\tvalid_0's l2: 34.0438\n",
      "[70]\tvalid_0's l2: 34.0438\n",
      "[71]\tvalid_0's l2: 34.0438\n",
      "[72]\tvalid_0's l2: 34.0438\n",
      "[73]\tvalid_0's l2: 34.0437\n",
      "[74]\tvalid_0's l2: 34.0437\n",
      "[75]\tvalid_0's l2: 34.0437\n",
      "[76]\tvalid_0's l2: 34.0437\n",
      "[77]\tvalid_0's l2: 34.0436\n",
      "[78]\tvalid_0's l2: 34.0436\n",
      "[79]\tvalid_0's l2: 34.0436\n",
      "[80]\tvalid_0's l2: 34.0436\n",
      "[81]\tvalid_0's l2: 34.0436\n",
      "[82]\tvalid_0's l2: 34.0435\n",
      "[83]\tvalid_0's l2: 34.0435\n",
      "[84]\tvalid_0's l2: 34.0435\n",
      "[85]\tvalid_0's l2: 34.0434\n",
      "[86]\tvalid_0's l2: 34.0434\n",
      "[87]\tvalid_0's l2: 34.0434\n",
      "[88]\tvalid_0's l2: 34.0434\n",
      "[89]\tvalid_0's l2: 34.0434\n",
      "[90]\tvalid_0's l2: 34.0434\n",
      "[91]\tvalid_0's l2: 34.0433\n",
      "[92]\tvalid_0's l2: 34.0433\n",
      "[93]\tvalid_0's l2: 34.0433\n",
      "[94]\tvalid_0's l2: 34.0433\n",
      "[95]\tvalid_0's l2: 34.0432\n",
      "[96]\tvalid_0's l2: 34.0432\n",
      "[97]\tvalid_0's l2: 34.0432\n",
      "[98]\tvalid_0's l2: 34.0432\n",
      "[99]\tvalid_0's l2: 34.0432\n",
      "[100]\tvalid_0's l2: 34.0431\n",
      "[101]\tvalid_0's l2: 34.0431\n",
      "[102]\tvalid_0's l2: 34.0431\n",
      "[103]\tvalid_0's l2: 34.0431\n",
      "[104]\tvalid_0's l2: 34.0431\n",
      "[105]\tvalid_0's l2: 34.0431\n",
      "[106]\tvalid_0's l2: 34.0431\n",
      "[107]\tvalid_0's l2: 34.0431\n",
      "[108]\tvalid_0's l2: 34.043\n",
      "[109]\tvalid_0's l2: 34.043\n",
      "[110]\tvalid_0's l2: 34.043\n",
      "[111]\tvalid_0's l2: 34.0429\n",
      "[112]\tvalid_0's l2: 34.0429\n",
      "[113]\tvalid_0's l2: 34.0429\n",
      "[114]\tvalid_0's l2: 34.0429\n",
      "[115]\tvalid_0's l2: 34.0429\n",
      "[116]\tvalid_0's l2: 34.0429\n",
      "[117]\tvalid_0's l2: 34.0428\n",
      "[118]\tvalid_0's l2: 34.0428\n",
      "[119]\tvalid_0's l2: 34.0428\n",
      "[120]\tvalid_0's l2: 34.0428\n",
      "[121]\tvalid_0's l2: 34.0428\n",
      "[122]\tvalid_0's l2: 34.0428\n",
      "[123]\tvalid_0's l2: 34.0428\n",
      "[124]\tvalid_0's l2: 34.0428\n",
      "[125]\tvalid_0's l2: 34.0428\n",
      "[126]\tvalid_0's l2: 34.0427\n",
      "[127]\tvalid_0's l2: 34.0427\n",
      "[128]\tvalid_0's l2: 34.0427\n",
      "[129]\tvalid_0's l2: 34.0427\n",
      "[130]\tvalid_0's l2: 34.0427\n",
      "[131]\tvalid_0's l2: 34.0427\n",
      "[132]\tvalid_0's l2: 34.0427\n",
      "[133]\tvalid_0's l2: 34.0427\n",
      "[134]\tvalid_0's l2: 34.0426\n",
      "[135]\tvalid_0's l2: 34.0426\n",
      "[136]\tvalid_0's l2: 34.0426\n",
      "[137]\tvalid_0's l2: 34.0426\n",
      "[138]\tvalid_0's l2: 34.0426\n",
      "[139]\tvalid_0's l2: 34.0426\n",
      "[140]\tvalid_0's l2: 34.0426\n",
      "[141]\tvalid_0's l2: 34.0426\n",
      "[142]\tvalid_0's l2: 34.0426\n",
      "[143]\tvalid_0's l2: 34.0426\n",
      "[144]\tvalid_0's l2: 34.0426\n",
      "[145]\tvalid_0's l2: 34.0425\n",
      "[146]\tvalid_0's l2: 34.0425\n",
      "[147]\tvalid_0's l2: 34.0425\n",
      "[148]\tvalid_0's l2: 34.0425\n",
      "[149]\tvalid_0's l2: 34.0425\n",
      "[150]\tvalid_0's l2: 34.0424\n",
      "[151]\tvalid_0's l2: 34.0424\n",
      "[152]\tvalid_0's l2: 34.0424\n",
      "[153]\tvalid_0's l2: 34.0424\n",
      "[154]\tvalid_0's l2: 34.0424\n",
      "[155]\tvalid_0's l2: 34.0424\n",
      "[156]\tvalid_0's l2: 34.0423\n",
      "[157]\tvalid_0's l2: 34.0423\n",
      "[158]\tvalid_0's l2: 34.0423\n",
      "[159]\tvalid_0's l2: 34.0422\n",
      "[160]\tvalid_0's l2: 34.0422\n",
      "[161]\tvalid_0's l2: 34.0422\n",
      "[162]\tvalid_0's l2: 34.0422\n",
      "[163]\tvalid_0's l2: 34.0422\n",
      "[164]\tvalid_0's l2: 34.0422\n",
      "[165]\tvalid_0's l2: 34.0422\n",
      "[166]\tvalid_0's l2: 34.0421\n",
      "[167]\tvalid_0's l2: 34.0421\n",
      "[168]\tvalid_0's l2: 34.0421\n",
      "[169]\tvalid_0's l2: 34.0421\n",
      "[170]\tvalid_0's l2: 34.0421\n",
      "[171]\tvalid_0's l2: 34.0421\n",
      "[172]\tvalid_0's l2: 34.0421\n",
      "[173]\tvalid_0's l2: 34.0421\n",
      "[174]\tvalid_0's l2: 34.0421\n",
      "[175]\tvalid_0's l2: 34.042\n",
      "[176]\tvalid_0's l2: 34.042\n",
      "[177]\tvalid_0's l2: 34.042\n",
      "[178]\tvalid_0's l2: 34.042\n",
      "[179]\tvalid_0's l2: 34.042\n",
      "[180]\tvalid_0's l2: 34.042\n",
      "[181]\tvalid_0's l2: 34.042\n",
      "[182]\tvalid_0's l2: 34.042\n",
      "[183]\tvalid_0's l2: 34.042\n",
      "[184]\tvalid_0's l2: 34.042\n",
      "[185]\tvalid_0's l2: 34.0419\n",
      "[186]\tvalid_0's l2: 34.0419\n",
      "[187]\tvalid_0's l2: 34.0419\n",
      "[188]\tvalid_0's l2: 34.0419\n",
      "[189]\tvalid_0's l2: 34.0419\n",
      "[190]\tvalid_0's l2: 34.0419\n",
      "[191]\tvalid_0's l2: 34.0419\n",
      "[192]\tvalid_0's l2: 34.0419\n",
      "[193]\tvalid_0's l2: 34.0419\n",
      "[194]\tvalid_0's l2: 34.0419\n",
      "[195]\tvalid_0's l2: 34.0418\n",
      "[196]\tvalid_0's l2: 34.0418\n",
      "[197]\tvalid_0's l2: 34.0418\n",
      "[198]\tvalid_0's l2: 34.0418\n",
      "[199]\tvalid_0's l2: 34.0418\n",
      "[200]\tvalid_0's l2: 34.0418\n",
      "[201]\tvalid_0's l2: 34.0418\n",
      "[202]\tvalid_0's l2: 34.0418\n",
      "[203]\tvalid_0's l2: 34.0417\n",
      "[204]\tvalid_0's l2: 34.0417\n",
      "[205]\tvalid_0's l2: 34.0417\n",
      "[206]\tvalid_0's l2: 34.0417\n",
      "[207]\tvalid_0's l2: 34.0416\n",
      "[208]\tvalid_0's l2: 34.0416\n",
      "[209]\tvalid_0's l2: 34.0416\n",
      "[210]\tvalid_0's l2: 34.0416\n",
      "[211]\tvalid_0's l2: 34.0415\n",
      "[212]\tvalid_0's l2: 34.0415\n",
      "[213]\tvalid_0's l2: 34.0415\n",
      "[214]\tvalid_0's l2: 34.0415\n",
      "[215]\tvalid_0's l2: 34.0415\n",
      "[216]\tvalid_0's l2: 34.0415\n",
      "[217]\tvalid_0's l2: 34.0415\n",
      "[218]\tvalid_0's l2: 34.0415\n",
      "[219]\tvalid_0's l2: 34.0414\n",
      "[220]\tvalid_0's l2: 34.0414\n",
      "[221]\tvalid_0's l2: 34.0413\n",
      "[222]\tvalid_0's l2: 34.0413\n",
      "[223]\tvalid_0's l2: 34.0413\n",
      "[224]\tvalid_0's l2: 34.0412\n",
      "[225]\tvalid_0's l2: 34.0412\n",
      "[226]\tvalid_0's l2: 34.0412\n",
      "[227]\tvalid_0's l2: 34.0412\n",
      "[228]\tvalid_0's l2: 34.0412\n",
      "[229]\tvalid_0's l2: 34.0412\n",
      "[230]\tvalid_0's l2: 34.0412\n",
      "[231]\tvalid_0's l2: 34.0412\n",
      "[232]\tvalid_0's l2: 34.0411\n",
      "[233]\tvalid_0's l2: 34.0411\n",
      "[234]\tvalid_0's l2: 34.0412\n",
      "[235]\tvalid_0's l2: 34.0411\n",
      "[236]\tvalid_0's l2: 34.0411\n",
      "[237]\tvalid_0's l2: 34.0411\n",
      "[238]\tvalid_0's l2: 34.0411\n",
      "[239]\tvalid_0's l2: 34.0411\n",
      "[240]\tvalid_0's l2: 34.0411\n",
      "[241]\tvalid_0's l2: 34.0411\n",
      "[242]\tvalid_0's l2: 34.0411\n",
      "[243]\tvalid_0's l2: 34.0411\n",
      "[244]\tvalid_0's l2: 34.0411\n",
      "[245]\tvalid_0's l2: 34.0411\n",
      "[246]\tvalid_0's l2: 34.0411\n",
      "[247]\tvalid_0's l2: 34.0411\n",
      "[248]\tvalid_0's l2: 34.0411\n",
      "[249]\tvalid_0's l2: 34.0411\n",
      "[250]\tvalid_0's l2: 34.0411\n",
      "[251]\tvalid_0's l2: 34.0411\n",
      "[252]\tvalid_0's l2: 34.0411\n",
      "[253]\tvalid_0's l2: 34.0411\n",
      "[254]\tvalid_0's l2: 34.0411\n",
      "[255]\tvalid_0's l2: 34.0411\n",
      "[256]\tvalid_0's l2: 34.0411\n",
      "[257]\tvalid_0's l2: 34.0411\n",
      "[258]\tvalid_0's l2: 34.0411\n",
      "[259]\tvalid_0's l2: 34.0411\n",
      "[260]\tvalid_0's l2: 34.0411\n",
      "[261]\tvalid_0's l2: 34.041\n",
      "[262]\tvalid_0's l2: 34.041\n",
      "[263]\tvalid_0's l2: 34.041\n",
      "[264]\tvalid_0's l2: 34.041\n",
      "[265]\tvalid_0's l2: 34.041\n",
      "[266]\tvalid_0's l2: 34.041\n",
      "[267]\tvalid_0's l2: 34.041\n",
      "[268]\tvalid_0's l2: 34.041\n",
      "[269]\tvalid_0's l2: 34.041\n",
      "[270]\tvalid_0's l2: 34.041\n",
      "[271]\tvalid_0's l2: 34.041\n",
      "[272]\tvalid_0's l2: 34.041\n",
      "[273]\tvalid_0's l2: 34.041\n",
      "[274]\tvalid_0's l2: 34.041\n",
      "[275]\tvalid_0's l2: 34.041\n",
      "[276]\tvalid_0's l2: 34.041\n",
      "[277]\tvalid_0's l2: 34.041\n",
      "[278]\tvalid_0's l2: 34.041\n",
      "[279]\tvalid_0's l2: 34.041\n",
      "[280]\tvalid_0's l2: 34.041\n",
      "[281]\tvalid_0's l2: 34.041\n",
      "[282]\tvalid_0's l2: 34.041\n",
      "[283]\tvalid_0's l2: 34.041\n",
      "[284]\tvalid_0's l2: 34.041\n",
      "[285]\tvalid_0's l2: 34.041\n",
      "[286]\tvalid_0's l2: 34.041\n",
      "[287]\tvalid_0's l2: 34.041\n",
      "[288]\tvalid_0's l2: 34.041\n",
      "[289]\tvalid_0's l2: 34.041\n",
      "[290]\tvalid_0's l2: 34.041\n",
      "[291]\tvalid_0's l2: 34.041\n",
      "[292]\tvalid_0's l2: 34.041\n",
      "[293]\tvalid_0's l2: 34.0409\n",
      "[294]\tvalid_0's l2: 34.0409\n",
      "[295]\tvalid_0's l2: 34.0409\n",
      "[296]\tvalid_0's l2: 34.0409\n",
      "[297]\tvalid_0's l2: 34.0409\n"
     ]
    },
    {
     "name": "stdout",
     "output_type": "stream",
     "text": [
      "[298]\tvalid_0's l2: 34.0409\n",
      "[299]\tvalid_0's l2: 34.0409\n",
      "[300]\tvalid_0's l2: 34.0409\n"
     ]
    }
   ],
   "source": [
    "cv_scores = []\n",
    "#i = 1\n",
    "y_preds = pd.DataFrame()\n",
    "kf = model_selection.KFold(n_splits=5, shuffle=True, random_state=32)\n",
    "for dev_index, val_index in kf.split(range(train.shape[0])):\n",
    "        train_X, valid_X = train.iloc[dev_index,:], train.iloc[val_index,:]\n",
    "        train_y, valid_y = y_train[dev_index], y_train[val_index]\n",
    "        #print (train_X.shape, train_y.shape, valid_X.shape, valid_y.shape)\n",
    "        preds, model = runLgb(train_X, train_y, valid_X, valid_y)\n",
    "        cv_scores.append(mean_squared_error(valid_y, preds))\n",
    "        #y_preds['gbm'+ str(i)] = model.predict(test, num_iteration=model.best_iteration)\n",
    "        #i += 1\n",
    "        print(cv_scores)\n",
    "        "
   ]
  },
  {
   "cell_type": "code",
   "execution_count": null,
   "metadata": {
    "collapsed": true
   },
   "outputs": [],
   "source": []
  },
  {
   "cell_type": "code",
   "execution_count": null,
   "metadata": {
    "collapsed": true
   },
   "outputs": [],
   "source": [
    "del train_X, valid_X, train_y, valid_y,\n",
    "gc.collect()"
   ]
  },
  {
   "cell_type": "code",
   "execution_count": null,
   "metadata": {
    "collapsed": true
   },
   "outputs": [],
   "source": [
    "y_pred = mo.predict(test, num_iteration=gbm.best_iteration)"
   ]
  },
  {
   "cell_type": "code",
   "execution_count": null,
   "metadata": {
    "collapsed": true
   },
   "outputs": [],
   "source": [
    "sub = pd.DataFrame({'ID': test_Id, 'ConversionPayOut' : y_pred })\n",
    "sub = sub[['ID','ConversionPayOut'] ]"
   ]
  },
  {
   "cell_type": "code",
   "execution_count": null,
   "metadata": {
    "collapsed": true
   },
   "outputs": [],
   "source": []
  },
  {
   "cell_type": "code",
   "execution_count": null,
   "metadata": {
    "collapsed": true
   },
   "outputs": [],
   "source": [
    "su.head(5)"
   ]
  },
  {
   "cell_type": "code",
   "execution_count": null,
   "metadata": {
    "collapsed": true
   },
   "outputs": [],
   "source": [
    "sub.to_csv('lgb_v12.csv', index=False)"
   ]
  },
  {
   "cell_type": "code",
   "execution_count": null,
   "metadata": {
    "collapsed": true
   },
   "outputs": [],
   "source": []
  }
 ],
 "metadata": {
  "kernelspec": {
   "display_name": "Python 3",
   "language": "python",
   "name": "python3"
  },
  "language_info": {
   "codemirror_mode": {
    "name": "ipython",
    "version": 3
   },
   "file_extension": ".py",
   "mimetype": "text/x-python",
   "name": "python",
   "nbconvert_exporter": "python",
   "pygments_lexer": "ipython3",
   "version": "3.5.2"
  }
 },
 "nbformat": 4,
 "nbformat_minor": 2
}
