{
 "cells": [
  {
   "cell_type": "code",
   "execution_count": 4,
   "metadata": {},
   "outputs": [],
   "source": [
    "import pandas as pd\n",
    "import numpy as np\n",
    "import pandas_profiling as pd_pro\n",
    "import missingno as msno\n",
    "from sklearn.model_selection import train_test_split\n",
    "from sklearn.metrics import accuracy_score\n",
    "from sklearn.preprocessing import LabelEncoder\n",
    "import gc\n",
    "import lightgbm as lgbm\n",
    "from catboost import CatBoostRegressor"
   ]
  },
  {
   "cell_type": "code",
   "execution_count": 5,
   "metadata": {},
   "outputs": [
    {
     "name": "stderr",
     "output_type": "stream",
     "text": [
      "/usr/local/lib/python3.5/dist-packages/IPython/core/interactiveshell.py:2698: DtypeWarning: Columns (10) have mixed types. Specify dtype option on import or set low_memory=False.\n",
      "  interactivity=interactivity, compiler=compiler, result=result)\n"
     ]
    }
   ],
   "source": [
    "test = pd.read_csv('input/test.csv', parse_dates=['ClickDate'], \n",
    "                    dtype= { 'ID' : np.int32, \n",
    "                            'Carrier' : np.float32,                             \n",
    "                             #'publisherId' : np.int32,\n",
    "                            'advertiserCampaignId' : np.float32,\n",
    "                            'Fraud': np.float32},\n",
    "                     encoding='UTF-8')  \n",
    "                   "
   ]
  },
  {
   "cell_type": "code",
   "execution_count": 6,
   "metadata": {
    "collapsed": true
   },
   "outputs": [],
   "source": [
    "test_Id = test['ID'].values"
   ]
  },
  {
   "cell_type": "code",
   "execution_count": 7,
   "metadata": {},
   "outputs": [
    {
     "name": "stderr",
     "output_type": "stream",
     "text": [
      "/usr/local/lib/python3.5/dist-packages/IPython/core/interactiveshell.py:2698: DtypeWarning: Columns (13) have mixed types. Specify dtype option on import or set low_memory=False.\n",
      "  interactivity=interactivity, compiler=compiler, result=result)\n"
     ]
    }
   ],
   "source": [
    "#chunksize = 10 ** 7\n",
    "#chunks = pd.read_csv('input/train.csv', chunksize=chunksize)\n",
    "train = pd.read_csv('input/train.csv', parse_dates=['ClickDate'], \n",
    "                    dtype= { 'ID' : np.int32, \n",
    "                            'Carrier' : np.float32, \n",
    "                            'ConversionPayOut' : np.float32,\n",
    "                             #'publisherId' : np.int32,\n",
    "                            'advertiserCampaignId' : np.float32,\n",
    "                            'Fraud': np.float32},\n",
    "                     encoding='UTF-8',  \n",
    "                     nrows= 15000000)"
   ]
  },
  {
   "cell_type": "code",
   "execution_count": 8,
   "metadata": {
    "collapsed": true,
    "scrolled": true
   },
   "outputs": [],
   "source": [
    "len_train = train.shape[0]\n",
    "y_train = train.ConversionPayOut.values\n",
    "train.drop(['ConversionStatus','ConversionDate', 'ConversionPayOut'], inplace = True, axis=1)"
   ]
  },
  {
   "cell_type": "code",
   "execution_count": 9,
   "metadata": {
    "collapsed": true
   },
   "outputs": [],
   "source": [
    "data = pd.concat([train, test])"
   ]
  },
  {
   "cell_type": "code",
   "execution_count": 10,
   "metadata": {},
   "outputs": [
    {
     "data": {
      "text/plain": [
       "942"
      ]
     },
     "execution_count": 10,
     "metadata": {},
     "output_type": "execute_result"
    }
   ],
   "source": [
    "del train, test\n",
    "gc.collect()"
   ]
  },
  {
   "cell_type": "code",
   "execution_count": 11,
   "metadata": {
    "collapsed": true
   },
   "outputs": [],
   "source": [
    "data.Country.fillna('other', inplace = True)\n",
    "data.TrafficType.fillna('other', inplace = True)\n",
    "data.Device.fillna('other', inplace = True)\n",
    "data.Browser.fillna('other', inplace = True)\n",
    "data.OS.fillna('other', inplace = True)\n",
    "data.RefererUrl.fillna('other', inplace = True)\n",
    "data.subPublisherId.fillna('other', inplace = True)\n",
    "data['publisherId'] = pd.to_numeric(data['publisherId'], errors='coerce')\n",
    "data['subPublisherId'] = pd.to_numeric(data['subPublisherId'], errors='coerce')"
   ]
  },
  {
   "cell_type": "code",
   "execution_count": 12,
   "metadata": {
    "collapsed": true
   },
   "outputs": [],
   "source": [
    "cols_to_encode = ['Country',  'TrafficType', 'Device','Browser', 'OS', 'RefererUrl', 'UserIp', \n",
    "                 'subPublisherId','publisherId']\n",
    "le = LabelEncoder()\n",
    "for col in cols_to_encode:\n",
    "    data[col] = le.fit_transform(data[col])\n",
    "    "
   ]
  },
  {
   "cell_type": "code",
   "execution_count": 13,
   "metadata": {
    "collapsed": true
   },
   "outputs": [],
   "source": [
    "data['tweekday'] = data['ClickDate'].dt.weekday\n",
    "data['thour'] = data['ClickDate'].dt.hour\n",
    "data['tminute'] = data['ClickDate'].dt.minute"
   ]
  },
  {
   "cell_type": "code",
   "execution_count": 14,
   "metadata": {
    "collapsed": true
   },
   "outputs": [],
   "source": [
    "#data.head(5)"
   ]
  },
  {
   "cell_type": "code",
   "execution_count": 15,
   "metadata": {
    "collapsed": true
   },
   "outputs": [],
   "source": [
    "ref_url_cnt = data.groupby(['UserIp'])[ 'RefererUrl'].nunique().reset_index().rename(columns = {'RefererUrl': 'ref_url_cnt'})"
   ]
  },
  {
   "cell_type": "code",
   "execution_count": 16,
   "metadata": {
    "collapsed": true
   },
   "outputs": [],
   "source": [
    "pubId_cnt = data.groupby(['UserIp'])[ 'publisherId'].nunique().reset_index().rename(columns = {'publisherId': 'pubId_cnt'})"
   ]
  },
  {
   "cell_type": "code",
   "execution_count": 17,
   "metadata": {
    "collapsed": true
   },
   "outputs": [],
   "source": [
    "adv_comp_cnt = data.groupby(['UserIp'])[ 'advertiserCampaignId'].nunique().reset_index().\\\n",
    "                             rename(columns = {'advertiserCampaignId': 'compId_cnt'})"
   ]
  },
  {
   "cell_type": "code",
   "execution_count": 18,
   "metadata": {
    "collapsed": true
   },
   "outputs": [],
   "source": [
    "data = pd.merge(data, ref_url_cnt, how='left', on=['UserIp'])\n",
    "data = pd.merge(data, pubId_cnt, how='left', on=['UserIp'])\n",
    "data = pd.merge(data, adv_comp_cnt, how='left', on=['UserIp'])"
   ]
  },
  {
   "cell_type": "code",
   "execution_count": 19,
   "metadata": {},
   "outputs": [
    {
     "data": {
      "text/plain": [
       "63"
      ]
     },
     "execution_count": 19,
     "metadata": {},
     "output_type": "execute_result"
    }
   ],
   "source": [
    "del ref_url_cnt, pubId_cnt, adv_comp_cnt\n",
    "gc.collect()"
   ]
  },
  {
   "cell_type": "code",
   "execution_count": 20,
   "metadata": {
    "collapsed": true,
    "scrolled": true
   },
   "outputs": [],
   "source": [
    "data['refUrl_user_cnt'] = data.groupby(['RefererUrl'])['ID'].transform('count')"
   ]
  },
  {
   "cell_type": "code",
   "execution_count": 21,
   "metadata": {
    "collapsed": true
   },
   "outputs": [],
   "source": [
    "data['user_cnt'] = data.groupby(['UserIp'])['ID'].transform('count')"
   ]
  },
  {
   "cell_type": "code",
   "execution_count": 22,
   "metadata": {
    "collapsed": true
   },
   "outputs": [],
   "source": [
    "data['user_week_cnt'] = data.groupby(['UserIp', 'tweekday'])['ID'].transform('count')\n",
    "data['user_hr_cnt'] = data.groupby(['UserIp', 'tweekday', 'thour'])['ID'].transform('count')"
   ]
  },
  {
   "cell_type": "code",
   "execution_count": 23,
   "metadata": {
    "collapsed": true
   },
   "outputs": [],
   "source": [
    "data['user_refurl_share'] = data['user_cnt']/ data['ref_url_cnt']\n",
    "data['user_pubid_share'] = data['user_cnt']/ data['pubId_cnt']\n",
    "data['user_compid_share'] = data['user_cnt']/data['compId_cnt']"
   ]
  },
  {
   "cell_type": "code",
   "execution_count": 24,
   "metadata": {},
   "outputs": [
    {
     "data": {
      "text/plain": [
       "(25548873, 25)"
      ]
     },
     "execution_count": 24,
     "metadata": {},
     "output_type": "execute_result"
    }
   ],
   "source": [
    "data.drop(['ID','ClickDate'], axis=1, inplace=True)\n",
    "train = data[:len_train]\n",
    "test = data[len_train:]\n",
    "test.shape"
   ]
  },
  {
   "cell_type": "code",
   "execution_count": 25,
   "metadata": {},
   "outputs": [
    {
     "data": {
      "text/plain": [
       "70"
      ]
     },
     "execution_count": 25,
     "metadata": {},
     "output_type": "execute_result"
    }
   ],
   "source": [
    "del data\n",
    "gc.collect()"
   ]
  },
  {
   "cell_type": "code",
   "execution_count": 31,
   "metadata": {
    "collapsed": true
   },
   "outputs": [],
   "source": [
    "train_X, valid_X, train_y, valid_y = train_test_split(train, y_train, test_size=0.3, random_state=32)"
   ]
  },
  {
   "cell_type": "code",
   "execution_count": 32,
   "metadata": {},
   "outputs": [],
   "source": [
    "#print(train_X.shape, train_y.shape, valid_X.shape, valid_y.shape)"
   ]
  },
  {
   "cell_type": "raw",
   "metadata": {},
   "source": [
    "del train, y_train\n",
    "gc.collect()"
   ]
  },
  {
   "cell_type": "code",
   "execution_count": 33,
   "metadata": {},
   "outputs": [],
   "source": [
    "lgb_train = lgbm.Dataset(train_X, train_y)\n",
    "lgb_eval = lgbm.Dataset(valid_X, valid_y, reference=lgb_train)"
   ]
  },
  {
   "cell_type": "code",
   "execution_count": 34,
   "metadata": {
    "collapsed": true
   },
   "outputs": [],
   "source": [
    "del train_X, valid_X, train_y, valid_y"
   ]
  },
  {
   "cell_type": "code",
   "execution_count": 46,
   "metadata": {
    "collapsed": true
   },
   "outputs": [],
   "source": [
    "params1 = {\n",
    "    'task': 'train',\n",
    "    'boosting_type': 'gbdt',\n",
    "    'objective': 'regression',\n",
    "    'metric': 'rmse',\n",
    "    'num_leaves': 25,\n",
    "    'min_data_in_leaf':40,\n",
    "    'max_bin':10,\n",
    "    'learning_rate': 0.002,\n",
    "    'feature_fraction': 0.9,\n",
    "    'bagging_fraction': 0.8,\n",
    "    'bagging_freq': 5,\n",
    "    #'device':'gpu',\n",
    "    'verbose': 0,\n",
    "    'seed': 32\n",
    "}"
   ]
  },
  {
   "cell_type": "code",
   "execution_count": 36,
   "metadata": {
    "scrolled": true
   },
   "outputs": [
    {
     "name": "stdout",
     "output_type": "stream",
     "text": [
      "[1]\tvalid_0's rmse: 5.52184\n",
      "Training until validation scores don't improve for 100 rounds.\n",
      "[2]\tvalid_0's rmse: 5.52184\n",
      "[3]\tvalid_0's rmse: 5.52184\n",
      "[4]\tvalid_0's rmse: 5.52184\n",
      "[5]\tvalid_0's rmse: 5.52184\n",
      "[6]\tvalid_0's rmse: 5.52184\n",
      "[7]\tvalid_0's rmse: 5.52184\n",
      "[8]\tvalid_0's rmse: 5.52184\n",
      "[9]\tvalid_0's rmse: 5.52184\n",
      "[10]\tvalid_0's rmse: 5.52184\n",
      "[11]\tvalid_0's rmse: 5.52184\n",
      "[12]\tvalid_0's rmse: 5.52184\n",
      "[13]\tvalid_0's rmse: 5.52184\n",
      "[14]\tvalid_0's rmse: 5.52184\n",
      "[15]\tvalid_0's rmse: 5.52184\n",
      "[16]\tvalid_0's rmse: 5.52184\n",
      "[17]\tvalid_0's rmse: 5.52184\n",
      "[18]\tvalid_0's rmse: 5.52184\n",
      "[19]\tvalid_0's rmse: 5.52184\n",
      "[20]\tvalid_0's rmse: 5.52184\n",
      "[21]\tvalid_0's rmse: 5.52184\n",
      "[22]\tvalid_0's rmse: 5.52184\n",
      "[23]\tvalid_0's rmse: 5.52184\n",
      "[24]\tvalid_0's rmse: 5.52184\n",
      "[25]\tvalid_0's rmse: 5.52184\n",
      "[26]\tvalid_0's rmse: 5.52184\n",
      "[27]\tvalid_0's rmse: 5.52184\n",
      "[28]\tvalid_0's rmse: 5.52185\n",
      "[29]\tvalid_0's rmse: 5.52185\n",
      "[30]\tvalid_0's rmse: 5.52185\n",
      "[31]\tvalid_0's rmse: 5.52185\n",
      "[32]\tvalid_0's rmse: 5.52185\n",
      "[33]\tvalid_0's rmse: 5.52185\n",
      "[34]\tvalid_0's rmse: 5.52185\n",
      "[35]\tvalid_0's rmse: 5.52185\n",
      "[36]\tvalid_0's rmse: 5.52185\n",
      "[37]\tvalid_0's rmse: 5.52185\n",
      "[38]\tvalid_0's rmse: 5.52185\n",
      "[39]\tvalid_0's rmse: 5.52185\n",
      "[40]\tvalid_0's rmse: 5.52185\n",
      "[41]\tvalid_0's rmse: 5.52185\n",
      "[42]\tvalid_0's rmse: 5.52185\n",
      "[43]\tvalid_0's rmse: 5.52185\n",
      "[44]\tvalid_0's rmse: 5.52185\n",
      "[45]\tvalid_0's rmse: 5.52186\n",
      "[46]\tvalid_0's rmse: 5.52186\n",
      "[47]\tvalid_0's rmse: 5.52186\n",
      "[48]\tvalid_0's rmse: 5.52186\n",
      "[49]\tvalid_0's rmse: 5.52186\n",
      "[50]\tvalid_0's rmse: 5.52186\n",
      "[51]\tvalid_0's rmse: 5.52186\n",
      "[52]\tvalid_0's rmse: 5.52186\n",
      "[53]\tvalid_0's rmse: 5.52186\n",
      "[54]\tvalid_0's rmse: 5.52186\n",
      "[55]\tvalid_0's rmse: 5.52186\n",
      "[56]\tvalid_0's rmse: 5.52187\n",
      "[57]\tvalid_0's rmse: 5.52187\n",
      "[58]\tvalid_0's rmse: 5.52187\n",
      "[59]\tvalid_0's rmse: 5.52187\n",
      "[60]\tvalid_0's rmse: 5.52187\n",
      "[61]\tvalid_0's rmse: 5.52187\n",
      "[62]\tvalid_0's rmse: 5.52187\n",
      "[63]\tvalid_0's rmse: 5.52187\n",
      "[64]\tvalid_0's rmse: 5.52187\n",
      "[65]\tvalid_0's rmse: 5.52187\n",
      "[66]\tvalid_0's rmse: 5.52188\n",
      "[67]\tvalid_0's rmse: 5.52188\n",
      "[68]\tvalid_0's rmse: 5.52188\n",
      "[69]\tvalid_0's rmse: 5.52188\n",
      "[70]\tvalid_0's rmse: 5.52188\n",
      "[71]\tvalid_0's rmse: 5.52188\n",
      "[72]\tvalid_0's rmse: 5.52188\n",
      "[73]\tvalid_0's rmse: 5.52188\n",
      "[74]\tvalid_0's rmse: 5.52188\n",
      "[75]\tvalid_0's rmse: 5.52188\n",
      "[76]\tvalid_0's rmse: 5.52189\n",
      "[77]\tvalid_0's rmse: 5.52189\n",
      "[78]\tvalid_0's rmse: 5.52189\n",
      "[79]\tvalid_0's rmse: 5.52189\n",
      "[80]\tvalid_0's rmse: 5.5219\n",
      "[81]\tvalid_0's rmse: 5.5219\n",
      "[82]\tvalid_0's rmse: 5.5219\n",
      "[83]\tvalid_0's rmse: 5.5219\n",
      "[84]\tvalid_0's rmse: 5.5219\n",
      "[85]\tvalid_0's rmse: 5.5219\n",
      "[86]\tvalid_0's rmse: 5.5219\n",
      "[87]\tvalid_0's rmse: 5.5219\n",
      "[88]\tvalid_0's rmse: 5.5219\n",
      "[89]\tvalid_0's rmse: 5.5219\n",
      "[90]\tvalid_0's rmse: 5.5219\n",
      "[91]\tvalid_0's rmse: 5.5219\n",
      "[92]\tvalid_0's rmse: 5.5219\n",
      "[93]\tvalid_0's rmse: 5.5219\n",
      "[94]\tvalid_0's rmse: 5.52191\n",
      "[95]\tvalid_0's rmse: 5.52191\n",
      "[96]\tvalid_0's rmse: 5.52191\n",
      "[97]\tvalid_0's rmse: 5.52191\n",
      "[98]\tvalid_0's rmse: 5.52191\n",
      "[99]\tvalid_0's rmse: 5.52191\n",
      "[100]\tvalid_0's rmse: 5.52191\n",
      "[101]\tvalid_0's rmse: 5.52191\n",
      "[102]\tvalid_0's rmse: 5.52191\n",
      "[103]\tvalid_0's rmse: 5.52191\n",
      "[104]\tvalid_0's rmse: 5.52191\n",
      "[105]\tvalid_0's rmse: 5.52191\n",
      "[106]\tvalid_0's rmse: 5.52191\n",
      "[107]\tvalid_0's rmse: 5.52192\n",
      "[108]\tvalid_0's rmse: 5.52192\n",
      "[109]\tvalid_0's rmse: 5.52192\n",
      "[110]\tvalid_0's rmse: 5.52192\n",
      "[111]\tvalid_0's rmse: 5.52192\n",
      "[112]\tvalid_0's rmse: 5.52192\n",
      "[113]\tvalid_0's rmse: 5.52192\n",
      "[114]\tvalid_0's rmse: 5.52192\n",
      "[115]\tvalid_0's rmse: 5.52192\n",
      "[116]\tvalid_0's rmse: 5.52192\n",
      "[117]\tvalid_0's rmse: 5.52193\n",
      "[118]\tvalid_0's rmse: 5.52193\n",
      "Early stopping, best iteration is:\n",
      "[18]\tvalid_0's rmse: 5.52184\n"
     ]
    }
   ],
   "source": [
    "model_gbm = lgbm.train(params1,\n",
    "                lgb_train,                \n",
    "                num_boost_round=500,\n",
    "                valid_sets=lgb_eval,\n",
    "                early_stopping_rounds=100)"
   ]
  },
  {
   "cell_type": "code",
   "execution_count": 37,
   "metadata": {},
   "outputs": [
    {
     "data": {
      "text/plain": [
       "127"
      ]
     },
     "execution_count": 37,
     "metadata": {},
     "output_type": "execute_result"
    }
   ],
   "source": [
    "del lgb_train, lgb_eval\n",
    "gc.collect()"
   ]
  },
  {
   "cell_type": "code",
   "execution_count": 38,
   "metadata": {
    "collapsed": true
   },
   "outputs": [],
   "source": [
    "train_X, valid_X, train_y, valid_y = train_test_split(train, y_train, test_size=0.23, random_state=13)"
   ]
  },
  {
   "cell_type": "code",
   "execution_count": 39,
   "metadata": {
    "collapsed": true
   },
   "outputs": [],
   "source": [
    "lgb_train = lgbm.Dataset(train_X, train_y)\n",
    "lgb_eval = lgbm.Dataset(valid_X, valid_y, reference=lgb_train)"
   ]
  },
  {
   "cell_type": "code",
   "execution_count": 40,
   "metadata": {
    "collapsed": true
   },
   "outputs": [],
   "source": [
    "del train_X, valid_X, train_y, valid_y"
   ]
  },
  {
   "cell_type": "code",
   "execution_count": 44,
   "metadata": {
    "collapsed": true
   },
   "outputs": [],
   "source": [
    "params2 = {\n",
    "    'task': 'train',\n",
    "    'boosting_type': 'rf',\n",
    "    'objective': 'regression',\n",
    "    'metric': 'rmse',\n",
    "    'num_leaves': 25,\n",
    "    'min_data_in_leaf':40,\n",
    "    'max_bin':10,\n",
    "    'learning_rate': 0.002,\n",
    "    'feature_fraction': 0.9,\n",
    "    'bagging_fraction': 0.8,\n",
    "    'bagging_freq': 5,\n",
    "    #'device':'gpu',\n",
    "    'verbose': 0,\n",
    "    'seed': 13\n",
    "}"
   ]
  },
  {
   "cell_type": "code",
   "execution_count": 42,
   "metadata": {},
   "outputs": [
    {
     "name": "stdout",
     "output_type": "stream",
     "text": [
      "[1]\tvalid_0's rmse: 5.66433\n",
      "Training until validation scores don't improve for 100 rounds.\n",
      "[2]\tvalid_0's rmse: 5.66433\n",
      "[3]\tvalid_0's rmse: 5.66249\n",
      "[4]\tvalid_0's rmse: 5.66226\n",
      "[5]\tvalid_0's rmse: 5.66092\n",
      "[6]\tvalid_0's rmse: 5.65947\n",
      "[7]\tvalid_0's rmse: 5.65858\n",
      "[8]\tvalid_0's rmse: 5.65859\n",
      "[9]\tvalid_0's rmse: 5.65836\n",
      "[10]\tvalid_0's rmse: 5.65827\n",
      "[11]\tvalid_0's rmse: 5.65806\n",
      "[12]\tvalid_0's rmse: 5.65809\n",
      "[13]\tvalid_0's rmse: 5.65799\n",
      "[14]\tvalid_0's rmse: 5.65788\n",
      "[15]\tvalid_0's rmse: 5.65799\n",
      "[16]\tvalid_0's rmse: 5.65776\n",
      "[17]\tvalid_0's rmse: 5.65758\n",
      "[18]\tvalid_0's rmse: 5.6573\n",
      "[19]\tvalid_0's rmse: 5.65723\n",
      "[20]\tvalid_0's rmse: 5.65715\n",
      "[21]\tvalid_0's rmse: 5.65704\n",
      "[22]\tvalid_0's rmse: 5.65695\n",
      "[23]\tvalid_0's rmse: 5.65676\n",
      "[24]\tvalid_0's rmse: 5.65667\n",
      "[25]\tvalid_0's rmse: 5.65668\n",
      "[26]\tvalid_0's rmse: 5.65679\n",
      "[27]\tvalid_0's rmse: 5.6569\n",
      "[28]\tvalid_0's rmse: 5.657\n",
      "[29]\tvalid_0's rmse: 5.65694\n",
      "[30]\tvalid_0's rmse: 5.65706\n",
      "[31]\tvalid_0's rmse: 5.65699\n",
      "[32]\tvalid_0's rmse: 5.65697\n",
      "[33]\tvalid_0's rmse: 5.65699\n",
      "[34]\tvalid_0's rmse: 5.65698\n",
      "[35]\tvalid_0's rmse: 5.65701\n",
      "[36]\tvalid_0's rmse: 5.65695\n",
      "[37]\tvalid_0's rmse: 5.65693\n",
      "[38]\tvalid_0's rmse: 5.65692\n",
      "[39]\tvalid_0's rmse: 5.65693\n",
      "[40]\tvalid_0's rmse: 5.6569\n",
      "[41]\tvalid_0's rmse: 5.65691\n",
      "[42]\tvalid_0's rmse: 5.65691\n",
      "[43]\tvalid_0's rmse: 5.65688\n",
      "[44]\tvalid_0's rmse: 5.65682\n",
      "[45]\tvalid_0's rmse: 5.65676\n",
      "[46]\tvalid_0's rmse: 5.65669\n",
      "[47]\tvalid_0's rmse: 5.65664\n",
      "[48]\tvalid_0's rmse: 5.65662\n",
      "[49]\tvalid_0's rmse: 5.6566\n",
      "[50]\tvalid_0's rmse: 5.65655\n",
      "[51]\tvalid_0's rmse: 5.65652\n",
      "[52]\tvalid_0's rmse: 5.6565\n",
      "[53]\tvalid_0's rmse: 5.65646\n",
      "[54]\tvalid_0's rmse: 5.65645\n",
      "[55]\tvalid_0's rmse: 5.6564\n",
      "[56]\tvalid_0's rmse: 5.65638\n",
      "[57]\tvalid_0's rmse: 5.65635\n",
      "[58]\tvalid_0's rmse: 5.65631\n",
      "[59]\tvalid_0's rmse: 5.65628\n",
      "[60]\tvalid_0's rmse: 5.65626\n",
      "[61]\tvalid_0's rmse: 5.65622\n",
      "[62]\tvalid_0's rmse: 5.65619\n",
      "[63]\tvalid_0's rmse: 5.65616\n",
      "[64]\tvalid_0's rmse: 5.65613\n",
      "[65]\tvalid_0's rmse: 5.65611\n",
      "[66]\tvalid_0's rmse: 5.65612\n",
      "[67]\tvalid_0's rmse: 5.65612\n",
      "[68]\tvalid_0's rmse: 5.65616\n",
      "[69]\tvalid_0's rmse: 5.6562\n",
      "[70]\tvalid_0's rmse: 5.65622\n",
      "[71]\tvalid_0's rmse: 5.65622\n",
      "[72]\tvalid_0's rmse: 5.65623\n",
      "[73]\tvalid_0's rmse: 5.65624\n",
      "[74]\tvalid_0's rmse: 5.65625\n",
      "[75]\tvalid_0's rmse: 5.65623\n",
      "[76]\tvalid_0's rmse: 5.65622\n",
      "[77]\tvalid_0's rmse: 5.65621\n",
      "[78]\tvalid_0's rmse: 5.65621\n",
      "[79]\tvalid_0's rmse: 5.65622\n",
      "[80]\tvalid_0's rmse: 5.6562\n",
      "[81]\tvalid_0's rmse: 5.65623\n",
      "[82]\tvalid_0's rmse: 5.65626\n",
      "[83]\tvalid_0's rmse: 5.65626\n",
      "[84]\tvalid_0's rmse: 5.65629\n",
      "[85]\tvalid_0's rmse: 5.65629\n",
      "[86]\tvalid_0's rmse: 5.65628\n",
      "[87]\tvalid_0's rmse: 5.65626\n",
      "[88]\tvalid_0's rmse: 5.65623\n",
      "[89]\tvalid_0's rmse: 5.65619\n",
      "[90]\tvalid_0's rmse: 5.65619\n",
      "[91]\tvalid_0's rmse: 5.6562\n",
      "[92]\tvalid_0's rmse: 5.65619\n",
      "[93]\tvalid_0's rmse: 5.6562\n",
      "[94]\tvalid_0's rmse: 5.6562\n",
      "[95]\tvalid_0's rmse: 5.65619\n",
      "[96]\tvalid_0's rmse: 5.6562\n",
      "[97]\tvalid_0's rmse: 5.6562\n",
      "[98]\tvalid_0's rmse: 5.65621\n",
      "[99]\tvalid_0's rmse: 5.6562\n",
      "[100]\tvalid_0's rmse: 5.65622\n",
      "[101]\tvalid_0's rmse: 5.65621\n",
      "[102]\tvalid_0's rmse: 5.65619\n",
      "[103]\tvalid_0's rmse: 5.65617\n",
      "[104]\tvalid_0's rmse: 5.65615\n",
      "[105]\tvalid_0's rmse: 5.65613\n",
      "[106]\tvalid_0's rmse: 5.65612\n",
      "[107]\tvalid_0's rmse: 5.65614\n",
      "[108]\tvalid_0's rmse: 5.65614\n",
      "[109]\tvalid_0's rmse: 5.65615\n",
      "[110]\tvalid_0's rmse: 5.65614\n",
      "[111]\tvalid_0's rmse: 5.65613\n",
      "[112]\tvalid_0's rmse: 5.65613\n",
      "[113]\tvalid_0's rmse: 5.65612\n",
      "[114]\tvalid_0's rmse: 5.65611\n",
      "[115]\tvalid_0's rmse: 5.6561\n",
      "[116]\tvalid_0's rmse: 5.6561\n",
      "[117]\tvalid_0's rmse: 5.6561\n",
      "[118]\tvalid_0's rmse: 5.65613\n",
      "[119]\tvalid_0's rmse: 5.65615\n",
      "[120]\tvalid_0's rmse: 5.65614\n",
      "[121]\tvalid_0's rmse: 5.65615\n",
      "[122]\tvalid_0's rmse: 5.65614\n",
      "[123]\tvalid_0's rmse: 5.65613\n",
      "[124]\tvalid_0's rmse: 5.65614\n",
      "[125]\tvalid_0's rmse: 5.65615\n",
      "[126]\tvalid_0's rmse: 5.65614\n",
      "[127]\tvalid_0's rmse: 5.65614\n",
      "[128]\tvalid_0's rmse: 5.65612\n",
      "[129]\tvalid_0's rmse: 5.65612\n",
      "[130]\tvalid_0's rmse: 5.65612\n",
      "[131]\tvalid_0's rmse: 5.65611\n",
      "[132]\tvalid_0's rmse: 5.65611\n",
      "[133]\tvalid_0's rmse: 5.65611\n",
      "[134]\tvalid_0's rmse: 5.65609\n",
      "[135]\tvalid_0's rmse: 5.65609\n",
      "[136]\tvalid_0's rmse: 5.65609\n",
      "[137]\tvalid_0's rmse: 5.65608\n",
      "[138]\tvalid_0's rmse: 5.65608\n",
      "[139]\tvalid_0's rmse: 5.65607\n",
      "[140]\tvalid_0's rmse: 5.65606\n",
      "[141]\tvalid_0's rmse: 5.65606\n",
      "[142]\tvalid_0's rmse: 5.65604\n",
      "[143]\tvalid_0's rmse: 5.65603\n",
      "[144]\tvalid_0's rmse: 5.65603\n",
      "[145]\tvalid_0's rmse: 5.65602\n",
      "[146]\tvalid_0's rmse: 5.65601\n",
      "[147]\tvalid_0's rmse: 5.65599\n",
      "[148]\tvalid_0's rmse: 5.65598\n",
      "[149]\tvalid_0's rmse: 5.65598\n",
      "[150]\tvalid_0's rmse: 5.65598\n",
      "[151]\tvalid_0's rmse: 5.65596\n",
      "[152]\tvalid_0's rmse: 5.65595\n",
      "[153]\tvalid_0's rmse: 5.65594\n",
      "[154]\tvalid_0's rmse: 5.65594\n",
      "[155]\tvalid_0's rmse: 5.65593\n",
      "[156]\tvalid_0's rmse: 5.65592\n",
      "[157]\tvalid_0's rmse: 5.6559\n",
      "[158]\tvalid_0's rmse: 5.65589\n",
      "[159]\tvalid_0's rmse: 5.65587\n",
      "[160]\tvalid_0's rmse: 5.65586\n",
      "[161]\tvalid_0's rmse: 5.65587\n",
      "[162]\tvalid_0's rmse: 5.65587\n",
      "[163]\tvalid_0's rmse: 5.65587\n",
      "[164]\tvalid_0's rmse: 5.65588\n",
      "[165]\tvalid_0's rmse: 5.65588\n",
      "[166]\tvalid_0's rmse: 5.65587\n",
      "[167]\tvalid_0's rmse: 5.65588\n",
      "[168]\tvalid_0's rmse: 5.65589\n",
      "[169]\tvalid_0's rmse: 5.6559\n",
      "[170]\tvalid_0's rmse: 5.6559\n",
      "[171]\tvalid_0's rmse: 5.6559\n",
      "[172]\tvalid_0's rmse: 5.65589\n",
      "[173]\tvalid_0's rmse: 5.65588\n",
      "[174]\tvalid_0's rmse: 5.65587\n",
      "[175]\tvalid_0's rmse: 5.65587\n",
      "[176]\tvalid_0's rmse: 5.65588\n",
      "[177]\tvalid_0's rmse: 5.65588\n",
      "[178]\tvalid_0's rmse: 5.65588\n",
      "[179]\tvalid_0's rmse: 5.65588\n",
      "[180]\tvalid_0's rmse: 5.65589\n",
      "[181]\tvalid_0's rmse: 5.65589\n",
      "[182]\tvalid_0's rmse: 5.65588\n",
      "[183]\tvalid_0's rmse: 5.65588\n",
      "[184]\tvalid_0's rmse: 5.65588\n",
      "[185]\tvalid_0's rmse: 5.65586\n",
      "[186]\tvalid_0's rmse: 5.65587\n",
      "[187]\tvalid_0's rmse: 5.65588\n",
      "[188]\tvalid_0's rmse: 5.65588\n",
      "[189]\tvalid_0's rmse: 5.65589\n",
      "[190]\tvalid_0's rmse: 5.6559\n",
      "[191]\tvalid_0's rmse: 5.6559\n",
      "[192]\tvalid_0's rmse: 5.6559\n",
      "[193]\tvalid_0's rmse: 5.6559\n",
      "[194]\tvalid_0's rmse: 5.6559\n",
      "[195]\tvalid_0's rmse: 5.6559\n",
      "[196]\tvalid_0's rmse: 5.65589\n",
      "[197]\tvalid_0's rmse: 5.6559\n",
      "[198]\tvalid_0's rmse: 5.6559\n",
      "[199]\tvalid_0's rmse: 5.65589\n",
      "[200]\tvalid_0's rmse: 5.6559\n",
      "[201]\tvalid_0's rmse: 5.65589\n",
      "[202]\tvalid_0's rmse: 5.65589\n",
      "[203]\tvalid_0's rmse: 5.6559\n",
      "[204]\tvalid_0's rmse: 5.6559\n",
      "[205]\tvalid_0's rmse: 5.65591\n",
      "[206]\tvalid_0's rmse: 5.6559\n",
      "[207]\tvalid_0's rmse: 5.65589\n",
      "[208]\tvalid_0's rmse: 5.65588\n",
      "[209]\tvalid_0's rmse: 5.65588\n",
      "[210]\tvalid_0's rmse: 5.65588\n",
      "[211]\tvalid_0's rmse: 5.65588\n",
      "[212]\tvalid_0's rmse: 5.65588\n",
      "[213]\tvalid_0's rmse: 5.65588\n",
      "[214]\tvalid_0's rmse: 5.65587\n",
      "[215]\tvalid_0's rmse: 5.65587\n",
      "[216]\tvalid_0's rmse: 5.65589\n",
      "[217]\tvalid_0's rmse: 5.65589\n",
      "[218]\tvalid_0's rmse: 5.65589\n",
      "[219]\tvalid_0's rmse: 5.6559\n",
      "[220]\tvalid_0's rmse: 5.65591\n",
      "[221]\tvalid_0's rmse: 5.65592\n",
      "[222]\tvalid_0's rmse: 5.65592\n",
      "[223]\tvalid_0's rmse: 5.65593\n",
      "[224]\tvalid_0's rmse: 5.65593\n",
      "[225]\tvalid_0's rmse: 5.65594\n",
      "[226]\tvalid_0's rmse: 5.65593\n",
      "[227]\tvalid_0's rmse: 5.65592\n",
      "[228]\tvalid_0's rmse: 5.65592\n",
      "[229]\tvalid_0's rmse: 5.65591\n",
      "[230]\tvalid_0's rmse: 5.65591\n",
      "[231]\tvalid_0's rmse: 5.65589\n",
      "[232]\tvalid_0's rmse: 5.65588\n",
      "[233]\tvalid_0's rmse: 5.65587\n",
      "[234]\tvalid_0's rmse: 5.65585\n",
      "[235]\tvalid_0's rmse: 5.65584\n",
      "[236]\tvalid_0's rmse: 5.65584\n",
      "[237]\tvalid_0's rmse: 5.65584\n",
      "[238]\tvalid_0's rmse: 5.65584\n",
      "[239]\tvalid_0's rmse: 5.65584\n",
      "[240]\tvalid_0's rmse: 5.65583\n",
      "[241]\tvalid_0's rmse: 5.65584\n",
      "[242]\tvalid_0's rmse: 5.65584\n",
      "[243]\tvalid_0's rmse: 5.65584\n",
      "[244]\tvalid_0's rmse: 5.65584\n",
      "[245]\tvalid_0's rmse: 5.65585\n",
      "[246]\tvalid_0's rmse: 5.65585\n",
      "[247]\tvalid_0's rmse: 5.65585\n",
      "[248]\tvalid_0's rmse: 5.65584\n",
      "[249]\tvalid_0's rmse: 5.65585\n",
      "[250]\tvalid_0's rmse: 5.65585\n",
      "[251]\tvalid_0's rmse: 5.65584\n",
      "[252]\tvalid_0's rmse: 5.65584\n",
      "[253]\tvalid_0's rmse: 5.65583\n",
      "[254]\tvalid_0's rmse: 5.65582\n",
      "[255]\tvalid_0's rmse: 5.65581\n",
      "[256]\tvalid_0's rmse: 5.65583\n",
      "[257]\tvalid_0's rmse: 5.65584\n",
      "[258]\tvalid_0's rmse: 5.65585\n",
      "[259]\tvalid_0's rmse: 5.65586\n",
      "[260]\tvalid_0's rmse: 5.65586\n",
      "[261]\tvalid_0's rmse: 5.65587\n",
      "[262]\tvalid_0's rmse: 5.65586\n",
      "[263]\tvalid_0's rmse: 5.65586\n",
      "[264]\tvalid_0's rmse: 5.65586\n",
      "[265]\tvalid_0's rmse: 5.65586\n",
      "[266]\tvalid_0's rmse: 5.65587\n",
      "[267]\tvalid_0's rmse: 5.65588\n",
      "[268]\tvalid_0's rmse: 5.65588\n",
      "[269]\tvalid_0's rmse: 5.65587\n",
      "[270]\tvalid_0's rmse: 5.65588\n",
      "[271]\tvalid_0's rmse: 5.65587\n",
      "[272]\tvalid_0's rmse: 5.65587\n",
      "[273]\tvalid_0's rmse: 5.65586\n",
      "[274]\tvalid_0's rmse: 5.65586\n",
      "[275]\tvalid_0's rmse: 5.65586\n",
      "[276]\tvalid_0's rmse: 5.65585\n"
     ]
    },
    {
     "name": "stdout",
     "output_type": "stream",
     "text": [
      "[277]\tvalid_0's rmse: 5.65585\n",
      "[278]\tvalid_0's rmse: 5.65584\n",
      "[279]\tvalid_0's rmse: 5.65584\n",
      "[280]\tvalid_0's rmse: 5.65585\n",
      "[281]\tvalid_0's rmse: 5.65585\n",
      "[282]\tvalid_0's rmse: 5.65586\n",
      "[283]\tvalid_0's rmse: 5.65587\n",
      "[284]\tvalid_0's rmse: 5.65587\n",
      "[285]\tvalid_0's rmse: 5.65588\n",
      "[286]\tvalid_0's rmse: 5.65589\n",
      "[287]\tvalid_0's rmse: 5.65588\n",
      "[288]\tvalid_0's rmse: 5.65589\n",
      "[289]\tvalid_0's rmse: 5.65589\n",
      "[290]\tvalid_0's rmse: 5.6559\n",
      "[291]\tvalid_0's rmse: 5.65589\n",
      "[292]\tvalid_0's rmse: 5.65589\n",
      "[293]\tvalid_0's rmse: 5.65589\n",
      "[294]\tvalid_0's rmse: 5.65588\n",
      "[295]\tvalid_0's rmse: 5.65588\n",
      "[296]\tvalid_0's rmse: 5.65589\n",
      "[297]\tvalid_0's rmse: 5.65589\n",
      "[298]\tvalid_0's rmse: 5.65589\n",
      "[299]\tvalid_0's rmse: 5.6559\n",
      "[300]\tvalid_0's rmse: 5.65591\n",
      "[301]\tvalid_0's rmse: 5.65591\n",
      "[302]\tvalid_0's rmse: 5.65591\n",
      "[303]\tvalid_0's rmse: 5.65591\n",
      "[304]\tvalid_0's rmse: 5.6559\n",
      "[305]\tvalid_0's rmse: 5.6559\n",
      "[306]\tvalid_0's rmse: 5.65591\n",
      "[307]\tvalid_0's rmse: 5.65591\n",
      "[308]\tvalid_0's rmse: 5.65592\n",
      "[309]\tvalid_0's rmse: 5.65592\n",
      "[310]\tvalid_0's rmse: 5.65592\n",
      "[311]\tvalid_0's rmse: 5.65592\n",
      "[312]\tvalid_0's rmse: 5.65592\n",
      "[313]\tvalid_0's rmse: 5.65591\n",
      "[314]\tvalid_0's rmse: 5.65591\n",
      "[315]\tvalid_0's rmse: 5.65591\n",
      "[316]\tvalid_0's rmse: 5.6559\n",
      "[317]\tvalid_0's rmse: 5.6559\n",
      "[318]\tvalid_0's rmse: 5.65589\n",
      "[319]\tvalid_0's rmse: 5.65588\n",
      "[320]\tvalid_0's rmse: 5.65588\n",
      "[321]\tvalid_0's rmse: 5.65588\n",
      "[322]\tvalid_0's rmse: 5.65588\n",
      "[323]\tvalid_0's rmse: 5.65588\n",
      "[324]\tvalid_0's rmse: 5.65588\n",
      "[325]\tvalid_0's rmse: 5.65588\n",
      "[326]\tvalid_0's rmse: 5.65587\n",
      "[327]\tvalid_0's rmse: 5.65587\n",
      "[328]\tvalid_0's rmse: 5.65586\n",
      "[329]\tvalid_0's rmse: 5.65586\n",
      "[330]\tvalid_0's rmse: 5.65585\n",
      "[331]\tvalid_0's rmse: 5.65585\n",
      "[332]\tvalid_0's rmse: 5.65586\n",
      "[333]\tvalid_0's rmse: 5.65586\n",
      "[334]\tvalid_0's rmse: 5.65586\n",
      "[335]\tvalid_0's rmse: 5.65586\n",
      "[336]\tvalid_0's rmse: 5.65586\n",
      "[337]\tvalid_0's rmse: 5.65586\n",
      "[338]\tvalid_0's rmse: 5.65587\n",
      "[339]\tvalid_0's rmse: 5.65587\n",
      "[340]\tvalid_0's rmse: 5.65587\n",
      "[341]\tvalid_0's rmse: 5.65587\n",
      "[342]\tvalid_0's rmse: 5.65586\n",
      "[343]\tvalid_0's rmse: 5.65586\n",
      "[344]\tvalid_0's rmse: 5.65586\n",
      "[345]\tvalid_0's rmse: 5.65586\n",
      "[346]\tvalid_0's rmse: 5.65585\n",
      "[347]\tvalid_0's rmse: 5.65585\n",
      "[348]\tvalid_0's rmse: 5.65585\n",
      "[349]\tvalid_0's rmse: 5.65585\n",
      "[350]\tvalid_0's rmse: 5.65584\n",
      "[351]\tvalid_0's rmse: 5.65585\n",
      "[352]\tvalid_0's rmse: 5.65584\n",
      "[353]\tvalid_0's rmse: 5.65584\n",
      "[354]\tvalid_0's rmse: 5.65584\n",
      "[355]\tvalid_0's rmse: 5.65584\n",
      "Early stopping, best iteration is:\n",
      "[255]\tvalid_0's rmse: 5.65581\n"
     ]
    }
   ],
   "source": [
    "model_rf = lgbm.train(params2,\n",
    "                lgb_train,                \n",
    "                num_boost_round=500,\n",
    "                valid_sets=lgb_eval,\n",
    "                early_stopping_rounds=100)"
   ]
  },
  {
   "cell_type": "code",
   "execution_count": 50,
   "metadata": {},
   "outputs": [],
   "source": [
    "train_X, valid_X, train_y, valid_y = train_test_split(train, y_train, test_size=0.27, random_state=4)"
   ]
  },
  {
   "cell_type": "code",
   "execution_count": 51,
   "metadata": {},
   "outputs": [
    {
     "data": {
      "text/plain": [
       "<catboost.core.CatBoostRegressor at 0x7ff1c70d0b70>"
      ]
     },
     "execution_count": 51,
     "metadata": {},
     "output_type": "execute_result"
    }
   ],
   "source": [
    "model_cat = CatBoostRegressor(depth=8, iterations=200, learning_rate=0.03, eval_metric='RMSE', random_seed=1)\n",
    "model_cat.fit(train_X\n",
    "          ,train_y          \n",
    "          ,eval_set = (valid_X, valid_y)\n",
    "          ,use_best_model = True\n",
    "         )"
   ]
  },
  {
   "cell_type": "code",
   "execution_count": 52,
   "metadata": {},
   "outputs": [
    {
     "data": {
      "text/plain": [
       "1047"
      ]
     },
     "execution_count": 52,
     "metadata": {},
     "output_type": "execute_result"
    }
   ],
   "source": [
    "del train_X, valid_X, train_y, valid_y\n",
    "gc.collect()"
   ]
  },
  {
   "cell_type": "code",
   "execution_count": 53,
   "metadata": {
    "collapsed": true
   },
   "outputs": [],
   "source": [
    "y_pred_gbm = model_gbm.predict(test, num_iteration=model_gbm.best_iteration)"
   ]
  },
  {
   "cell_type": "code",
   "execution_count": 54,
   "metadata": {
    "collapsed": true
   },
   "outputs": [],
   "source": [
    "y_pred_rf = model_rf.predict(test, num_iteration=model_gbm.best_iteration)"
   ]
  },
  {
   "cell_type": "code",
   "execution_count": 55,
   "metadata": {
    "collapsed": true
   },
   "outputs": [],
   "source": [
    "y_pred_cat = model_cat.predict(test)"
   ]
  },
  {
   "cell_type": "code",
   "execution_count": 56,
   "metadata": {
    "collapsed": true
   },
   "outputs": [],
   "source": [
    "y_pred = (y_pred_gbm + y_pred_rf + y_pred_cat)/3.0"
   ]
  },
  {
   "cell_type": "code",
   "execution_count": 57,
   "metadata": {},
   "outputs": [
    {
     "data": {
      "text/plain": [
       "70"
      ]
     },
     "execution_count": 57,
     "metadata": {},
     "output_type": "execute_result"
    }
   ],
   "source": [
    "\n",
    "del train, test\n",
    "gc.collect()"
   ]
  },
  {
   "cell_type": "code",
   "execution_count": 59,
   "metadata": {},
   "outputs": [
    {
     "data": {
      "text/plain": [
       "array([ 0.02064026,  0.0382833 ,  0.02169453,  0.01336993,  0.01595702,\n",
       "        0.01457948,  0.01732141,  0.01490231,  0.01897298,  0.01819507])"
      ]
     },
     "execution_count": 59,
     "metadata": {},
     "output_type": "execute_result"
    }
   ],
   "source": [
    "y_pred[:10]"
   ]
  },
  {
   "cell_type": "code",
   "execution_count": 65,
   "metadata": {
    "collapsed": true
   },
   "outputs": [],
   "source": [
    "sub = pd.DataFrame({'ID': test_Id, 'ConversionPayOut' : y_pred_cat })\n",
    "sub = sub[['ID','ConversionPayOut'] ]"
   ]
  },
  {
   "cell_type": "code",
   "execution_count": null,
   "metadata": {
    "collapsed": true
   },
   "outputs": [],
   "source": []
  },
  {
   "cell_type": "code",
   "execution_count": 66,
   "metadata": {},
   "outputs": [
    {
     "data": {
      "text/html": [
       "<div>\n",
       "<style>\n",
       "    .dataframe thead tr:only-child th {\n",
       "        text-align: right;\n",
       "    }\n",
       "\n",
       "    .dataframe thead th {\n",
       "        text-align: left;\n",
       "    }\n",
       "\n",
       "    .dataframe tbody tr th {\n",
       "        vertical-align: top;\n",
       "    }\n",
       "</style>\n",
       "<table border=\"1\" class=\"dataframe\">\n",
       "  <thead>\n",
       "    <tr style=\"text-align: right;\">\n",
       "      <th></th>\n",
       "      <th>ID</th>\n",
       "      <th>ConversionPayOut</th>\n",
       "    </tr>\n",
       "  </thead>\n",
       "  <tbody>\n",
       "    <tr>\n",
       "      <th>0</th>\n",
       "      <td>63367289</td>\n",
       "      <td>0.004721</td>\n",
       "    </tr>\n",
       "    <tr>\n",
       "      <th>1</th>\n",
       "      <td>63367290</td>\n",
       "      <td>0.079569</td>\n",
       "    </tr>\n",
       "    <tr>\n",
       "      <th>2</th>\n",
       "      <td>63367291</td>\n",
       "      <td>0.007884</td>\n",
       "    </tr>\n",
       "    <tr>\n",
       "      <th>3</th>\n",
       "      <td>63367292</td>\n",
       "      <td>0.003268</td>\n",
       "    </tr>\n",
       "    <tr>\n",
       "      <th>4</th>\n",
       "      <td>63367293</td>\n",
       "      <td>0.010227</td>\n",
       "    </tr>\n",
       "  </tbody>\n",
       "</table>\n",
       "</div>"
      ],
      "text/plain": [
       "         ID  ConversionPayOut\n",
       "0  63367289          0.004721\n",
       "1  63367290          0.079569\n",
       "2  63367291          0.007884\n",
       "3  63367292          0.003268\n",
       "4  63367293          0.010227"
      ]
     },
     "execution_count": 66,
     "metadata": {},
     "output_type": "execute_result"
    }
   ],
   "source": [
    "sub.head(5)"
   ]
  },
  {
   "cell_type": "code",
   "execution_count": 67,
   "metadata": {
    "collapsed": true
   },
   "outputs": [],
   "source": [
    "sub.to_csv('cat_v1.csv', index=False)"
   ]
  },
  {
   "cell_type": "code",
   "execution_count": 64,
   "metadata": {},
   "outputs": [
    {
     "data": {
      "text/plain": [
       "105"
      ]
     },
     "execution_count": 64,
     "metadata": {},
     "output_type": "execute_result"
    }
   ],
   "source": [
    "del model_gbm, model_rf, model_cat\n",
    "gc.collect()"
   ]
  },
  {
   "cell_type": "code",
   "execution_count": null,
   "metadata": {
    "collapsed": true
   },
   "outputs": [],
   "source": []
  }
 ],
 "metadata": {
  "kernelspec": {
   "display_name": "Python 3",
   "language": "python",
   "name": "python3"
  },
  "language_info": {
   "codemirror_mode": {
    "name": "ipython",
    "version": 3
   },
   "file_extension": ".py",
   "mimetype": "text/x-python",
   "name": "python",
   "nbconvert_exporter": "python",
   "pygments_lexer": "ipython3",
   "version": "3.5.2"
  }
 },
 "nbformat": 4,
 "nbformat_minor": 2
}
