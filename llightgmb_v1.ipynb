{
 "cells": [
  {
   "cell_type": "code",
   "execution_count": 1,
   "metadata": {
    "collapsed": true
   },
   "outputs": [],
   "source": [
    "import pandas as pd\n",
    "import numpy as np\n",
    "import pandas_profiling as pd_pro\n",
    "import missingno as msno\n",
    "from sklearn.model_selection import train_test_split\n",
    "from sklearn.metrics import accuracy_score\n",
    "from sklearn.preprocessing import LabelEncoder\n",
    "import gc\n",
    "import lightgbm as lgbm"
   ]
  },
  {
   "cell_type": "code",
   "execution_count": 2,
   "metadata": {},
   "outputs": [
    {
     "name": "stderr",
     "output_type": "stream",
     "text": [
      "/usr/local/lib/python3.5/dist-packages/IPython/core/interactiveshell.py:2698: DtypeWarning: Columns (10) have mixed types. Specify dtype option on import or set low_memory=False.\n",
      "  interactivity=interactivity, compiler=compiler, result=result)\n"
     ]
    }
   ],
   "source": [
    "test = pd.read_csv('input/test.csv', parse_dates=['ClickDate'], \n",
    "                    dtype= { 'ID' : np.int32, \n",
    "                            'Carrier' : np.float32,                             \n",
    "                             #'publisherId' : np.int32,\n",
    "                            'advertiserCampaignId' : np.float32,\n",
    "                            'Fraud': np.float32},\n",
    "                     encoding='UTF-8')  \n",
    "                   "
   ]
  },
  {
   "cell_type": "code",
   "execution_count": 3,
   "metadata": {
    "collapsed": true
   },
   "outputs": [],
   "source": [
    "test_Id = test['ID'].values"
   ]
  },
  {
   "cell_type": "code",
   "execution_count": 4,
   "metadata": {},
   "outputs": [
    {
     "name": "stderr",
     "output_type": "stream",
     "text": [
      "/usr/local/lib/python3.5/dist-packages/IPython/core/interactiveshell.py:2698: DtypeWarning: Columns (13) have mixed types. Specify dtype option on import or set low_memory=False.\n",
      "  interactivity=interactivity, compiler=compiler, result=result)\n"
     ]
    }
   ],
   "source": [
    "#chunksize = 10 ** 7\n",
    "#chunks = pd.read_csv('input/train.csv', chunksize=chunksize)\n",
    "train = pd.read_csv('input/train.csv', parse_dates=['ClickDate'], \n",
    "                    dtype= { 'ID' : np.int32, \n",
    "                            'Carrier' : np.float32, \n",
    "                            'ConversionPayOut' : np.float32,\n",
    "                             #'publisherId' : np.int32,\n",
    "                            'advertiserCampaignId' : np.float32,\n",
    "                            'Fraud': np.float32},\n",
    "                     encoding='UTF-8',  \n",
    "                     nrows= 10000000)"
   ]
  },
  {
   "cell_type": "code",
   "execution_count": 5,
   "metadata": {
    "collapsed": true,
    "scrolled": true
   },
   "outputs": [],
   "source": [
    "len_train = train.shape[0]\n",
    "y_train = train.ConversionPayOut.values\n",
    "train.drop(['ConversionStatus','ConversionDate', 'ConversionPayOut'], inplace = True, axis=1)"
   ]
  },
  {
   "cell_type": "code",
   "execution_count": 6,
   "metadata": {
    "collapsed": true
   },
   "outputs": [],
   "source": [
    "data = pd.concat([train, test])"
   ]
  },
  {
   "cell_type": "code",
   "execution_count": 7,
   "metadata": {},
   "outputs": [
    {
     "data": {
      "text/plain": [
       "14"
      ]
     },
     "execution_count": 7,
     "metadata": {},
     "output_type": "execute_result"
    }
   ],
   "source": [
    "del train, test\n",
    "gc.collect()"
   ]
  },
  {
   "cell_type": "code",
   "execution_count": 8,
   "metadata": {
    "collapsed": true
   },
   "outputs": [],
   "source": [
    "data.Country.fillna('other', inplace = True)\n",
    "data.TrafficType.fillna('other', inplace = True)\n",
    "data.Device.fillna('other', inplace = True)\n",
    "data.Browser.fillna('other', inplace = True)\n",
    "data.OS.fillna('other', inplace = True)\n",
    "data.RefererUrl.fillna('other', inplace = True)\n",
    "data.subPublisherId.fillna('other', inplace = True)\n",
    "data['publisherId'] = pd.to_numeric(data['publisherId'], errors='coerce').astype(np.float32)\n",
    "data['subPublisherId'] = pd.to_numeric(data['subPublisherId'], errors='coerce').astype(np.float32)"
   ]
  },
  {
   "cell_type": "code",
   "execution_count": 9,
   "metadata": {
    "collapsed": true
   },
   "outputs": [],
   "source": [
    "cols_to_encode = ['Country',  'TrafficType', 'Device','Browser', 'OS', 'RefererUrl', 'UserIp', \n",
    "                 'subPublisherId','publisherId']\n",
    "le = LabelEncoder()\n",
    "for col in cols_to_encode:\n",
    "    data[col] = le.fit_transform(data[col]).astype(np.int32)\n",
    "    "
   ]
  },
  {
   "cell_type": "code",
   "execution_count": 10,
   "metadata": {
    "collapsed": true
   },
   "outputs": [],
   "source": [
    "data['tweekday'] = data['ClickDate'].dt.weekday.astype(np.int32)\n",
    "data['thour'] = data['ClickDate'].dt.hour.astype(np.int32)\n",
    "data['tminute'] = data['ClickDate'].dt.minute.astype(np.int32)"
   ]
  },
  {
   "cell_type": "code",
   "execution_count": 11,
   "metadata": {
    "collapsed": true
   },
   "outputs": [],
   "source": [
    "#data.head(5)"
   ]
  },
  {
   "cell_type": "code",
   "execution_count": 12,
   "metadata": {
    "collapsed": true
   },
   "outputs": [],
   "source": [
    "ref_url_cnt = data.groupby(['UserIp'])[ 'RefererUrl'].nunique().reset_index().\\\n",
    "                        rename(columns = {'RefererUrl': 'ref_url_cnt'}).astype(np.int32)"
   ]
  },
  {
   "cell_type": "code",
   "execution_count": 13,
   "metadata": {
    "collapsed": true
   },
   "outputs": [],
   "source": [
    "pubId_cnt = data.groupby(['UserIp'])[ 'publisherId'].nunique().reset_index().\\\n",
    "                    rename(columns = {'publisherId': 'pubId_cnt'}).astype(np.int32)"
   ]
  },
  {
   "cell_type": "code",
   "execution_count": 14,
   "metadata": {
    "collapsed": true
   },
   "outputs": [],
   "source": [
    "adv_comp_cnt = data.groupby(['UserIp'])[ 'advertiserCampaignId'].nunique().reset_index().\\\n",
    "                             rename(columns = {'advertiserCampaignId': 'compId_cnt'}).astype(np.int32)"
   ]
  },
  {
   "cell_type": "code",
   "execution_count": 15,
   "metadata": {
    "collapsed": true
   },
   "outputs": [],
   "source": [
    "data = pd.merge(data, ref_url_cnt, how='left', on=['UserIp'])\n",
    "data = pd.merge(data, pubId_cnt, how='left', on=['UserIp'])\n",
    "data = pd.merge(data, adv_comp_cnt, how='left', on=['UserIp'])"
   ]
  },
  {
   "cell_type": "code",
   "execution_count": 16,
   "metadata": {},
   "outputs": [
    {
     "data": {
      "text/plain": [
       "84"
      ]
     },
     "execution_count": 16,
     "metadata": {},
     "output_type": "execute_result"
    }
   ],
   "source": [
    "del ref_url_cnt, pubId_cnt, adv_comp_cnt\n",
    "gc.collect()"
   ]
  },
  {
   "cell_type": "code",
   "execution_count": 17,
   "metadata": {
    "collapsed": true,
    "scrolled": true
   },
   "outputs": [],
   "source": [
    "data['refUrl_user_cnt'] = data.groupby(['RefererUrl'])['ID'].transform('count').astype(np.int32)"
   ]
  },
  {
   "cell_type": "code",
   "execution_count": 18,
   "metadata": {
    "collapsed": true
   },
   "outputs": [],
   "source": [
    "data['user_cnt'] = data.groupby(['UserIp'])['ID'].transform('count').astype(np.int32)"
   ]
  },
  {
   "cell_type": "code",
   "execution_count": 19,
   "metadata": {
    "collapsed": true
   },
   "outputs": [],
   "source": [
    "data['user_week_cnt'] = data.groupby(['UserIp', 'tweekday'])['ID'].transform('count').astype(np.int32)\n",
    "data['user_hr_cnt'] = data.groupby(['UserIp', 'tweekday', 'thour'])['ID'].transform('count').astype(np.int32)"
   ]
  },
  {
   "cell_type": "code",
   "execution_count": 20,
   "metadata": {
    "collapsed": true
   },
   "outputs": [],
   "source": [
    "data['user_refurl_share'] = (data['user_cnt']/ data['ref_url_cnt']).astype(np.float32)\n",
    "data['user_pubid_share'] = (data['user_cnt']/ data['pubId_cnt']).astype(np.float32)\n",
    "data['user_compid_share'] = (data['user_cnt']/data['compId_cnt']).astype(np.float32)"
   ]
  },
  {
   "cell_type": "code",
   "execution_count": 21,
   "metadata": {},
   "outputs": [
    {
     "data": {
      "text/plain": [
       "(25548873, 25)"
      ]
     },
     "execution_count": 21,
     "metadata": {},
     "output_type": "execute_result"
    }
   ],
   "source": [
    "data.drop(['ID','ClickDate'], axis=1, inplace=True)\n",
    "train = data[:len_train]\n",
    "test = data[len_train:]\n",
    "test.shape"
   ]
  },
  {
   "cell_type": "code",
   "execution_count": 22,
   "metadata": {},
   "outputs": [
    {
     "data": {
      "text/plain": [
       "70"
      ]
     },
     "execution_count": 22,
     "metadata": {},
     "output_type": "execute_result"
    }
   ],
   "source": [
    "del data\n",
    "gc.collect()"
   ]
  },
  {
   "cell_type": "code",
   "execution_count": 184,
   "metadata": {
    "collapsed": true
   },
   "outputs": [],
   "source": [
    "train_X, valid_X, train_y, valid_y = train_test_split(train, y_train, test_size=0.4, random_state=32)"
   ]
  },
  {
   "cell_type": "code",
   "execution_count": 145,
   "metadata": {},
   "outputs": [
    {
     "name": "stdout",
     "output_type": "stream",
     "text": [
      "(8000000, 25) (8000000,) (2000000, 25) (2000000,)\n"
     ]
    }
   ],
   "source": [
    "print(train_X.shape, train_y.shape, valid_X.shape, valid_y.shape)"
   ]
  },
  {
   "cell_type": "raw",
   "metadata": {},
   "source": [
    "del train, y_train\n",
    "gc.collect()"
   ]
  },
  {
   "cell_type": "code",
   "execution_count": 146,
   "metadata": {
    "collapsed": true
   },
   "outputs": [],
   "source": [
    "lgb_train = lgbm.Dataset(train_X, train_y)\n",
    "lgb_eval = lgbm.Dataset(valid_X, valid_y, reference=lgb_train)"
   ]
  },
  {
   "cell_type": "code",
   "execution_count": 147,
   "metadata": {
    "collapsed": true
   },
   "outputs": [],
   "source": [
    "del train_X, valid_X, train_y, valid_y"
   ]
  },
  {
   "cell_type": "code",
   "execution_count": 182,
   "metadata": {
    "collapsed": true
   },
   "outputs": [],
   "source": [
    "params = {\n",
    "    'task': 'train',\n",
    "    'boosting_type': 'gbdt',\n",
    "    'objective': 'regression',\n",
    "    'lambda_l1': 1000,\n",
    "    'lambda_l2': 10,\n",
    "    'metric': 'rmse',\n",
    "    'num_leaves':106,\n",
    "    'min_data_in_leaf':50,\n",
    "    'max_bin':10,\n",
    "    'learning_rate': 0.06,\n",
    "    'feature_fraction': 0.9,\n",
    "    'bagging_fraction': 0.8,\n",
    "    'bagging_freq': 5,\n",
    "    #'device':'gpu',\n",
    "    'verbose': 0\n",
    "}"
   ]
  },
  {
   "cell_type": "code",
   "execution_count": 183,
   "metadata": {
    "scrolled": true
   },
   "outputs": [
    {
     "name": "stdout",
     "output_type": "stream",
     "text": [
      "[1]\tvalid_0's rmse: 5.59918\n",
      "Training until validation scores don't improve for 20 rounds.\n",
      "[2]\tvalid_0's rmse: 5.59916\n",
      "[3]\tvalid_0's rmse: 5.59915\n",
      "[4]\tvalid_0's rmse: 5.59913\n",
      "[5]\tvalid_0's rmse: 5.59912\n",
      "[6]\tvalid_0's rmse: 5.5991\n",
      "[7]\tvalid_0's rmse: 5.59908\n",
      "[8]\tvalid_0's rmse: 5.59907\n",
      "[9]\tvalid_0's rmse: 5.59905\n",
      "[10]\tvalid_0's rmse: 5.59904\n",
      "[11]\tvalid_0's rmse: 5.59903\n",
      "[12]\tvalid_0's rmse: 5.59902\n",
      "[13]\tvalid_0's rmse: 5.59901\n",
      "[14]\tvalid_0's rmse: 5.59901\n",
      "[15]\tvalid_0's rmse: 5.599\n",
      "[16]\tvalid_0's rmse: 5.59899\n",
      "[17]\tvalid_0's rmse: 5.59898\n",
      "[18]\tvalid_0's rmse: 5.59897\n",
      "[19]\tvalid_0's rmse: 5.59896\n",
      "[20]\tvalid_0's rmse: 5.59896\n",
      "[21]\tvalid_0's rmse: 5.59895\n",
      "[22]\tvalid_0's rmse: 5.59894\n",
      "[23]\tvalid_0's rmse: 5.59892\n",
      "[24]\tvalid_0's rmse: 5.59892\n",
      "[25]\tvalid_0's rmse: 5.5989\n",
      "[26]\tvalid_0's rmse: 5.5989\n",
      "[27]\tvalid_0's rmse: 5.5989\n",
      "[28]\tvalid_0's rmse: 5.59889\n",
      "[29]\tvalid_0's rmse: 5.59889\n",
      "[30]\tvalid_0's rmse: 5.59889\n",
      "[31]\tvalid_0's rmse: 5.59888\n",
      "[32]\tvalid_0's rmse: 5.59888\n",
      "[33]\tvalid_0's rmse: 5.59888\n",
      "[34]\tvalid_0's rmse: 5.59887\n",
      "[35]\tvalid_0's rmse: 5.59886\n",
      "[36]\tvalid_0's rmse: 5.59886\n",
      "[37]\tvalid_0's rmse: 5.59885\n",
      "[38]\tvalid_0's rmse: 5.59885\n",
      "[39]\tvalid_0's rmse: 5.59884\n",
      "[40]\tvalid_0's rmse: 5.59884\n",
      "[41]\tvalid_0's rmse: 5.59883\n",
      "[42]\tvalid_0's rmse: 5.59883\n",
      "[43]\tvalid_0's rmse: 5.59883\n",
      "[44]\tvalid_0's rmse: 5.59882\n",
      "[45]\tvalid_0's rmse: 5.59882\n",
      "[46]\tvalid_0's rmse: 5.59881\n",
      "[47]\tvalid_0's rmse: 5.59881\n",
      "[48]\tvalid_0's rmse: 5.59881\n",
      "[49]\tvalid_0's rmse: 5.59881\n",
      "[50]\tvalid_0's rmse: 5.5988\n",
      "[51]\tvalid_0's rmse: 5.5988\n",
      "[52]\tvalid_0's rmse: 5.59879\n",
      "[53]\tvalid_0's rmse: 5.59879\n",
      "[54]\tvalid_0's rmse: 5.59879\n",
      "[55]\tvalid_0's rmse: 5.59878\n",
      "[56]\tvalid_0's rmse: 5.59878\n",
      "[57]\tvalid_0's rmse: 5.59877\n",
      "[58]\tvalid_0's rmse: 5.59876\n",
      "[59]\tvalid_0's rmse: 5.59876\n",
      "[60]\tvalid_0's rmse: 5.59875\n",
      "[61]\tvalid_0's rmse: 5.59875\n",
      "[62]\tvalid_0's rmse: 5.59875\n",
      "[63]\tvalid_0's rmse: 5.59875\n",
      "[64]\tvalid_0's rmse: 5.59875\n",
      "[65]\tvalid_0's rmse: 5.59875\n",
      "[66]\tvalid_0's rmse: 5.59875\n",
      "[67]\tvalid_0's rmse: 5.59875\n",
      "[68]\tvalid_0's rmse: 5.59875\n",
      "[69]\tvalid_0's rmse: 5.59875\n",
      "[70]\tvalid_0's rmse: 5.59875\n",
      "[71]\tvalid_0's rmse: 5.59874\n",
      "[72]\tvalid_0's rmse: 5.59874\n",
      "[73]\tvalid_0's rmse: 5.59874\n",
      "[74]\tvalid_0's rmse: 5.59874\n",
      "[75]\tvalid_0's rmse: 5.59874\n",
      "[76]\tvalid_0's rmse: 5.59874\n",
      "[77]\tvalid_0's rmse: 5.59874\n",
      "[78]\tvalid_0's rmse: 5.59874\n",
      "[79]\tvalid_0's rmse: 5.59874\n",
      "[80]\tvalid_0's rmse: 5.59874\n",
      "[81]\tvalid_0's rmse: 5.59874\n",
      "[82]\tvalid_0's rmse: 5.59874\n",
      "[83]\tvalid_0's rmse: 5.59873\n",
      "[84]\tvalid_0's rmse: 5.59873\n",
      "[85]\tvalid_0's rmse: 5.59873\n",
      "[86]\tvalid_0's rmse: 5.59872\n",
      "[87]\tvalid_0's rmse: 5.59872\n",
      "[88]\tvalid_0's rmse: 5.59872\n",
      "[89]\tvalid_0's rmse: 5.59871\n",
      "[90]\tvalid_0's rmse: 5.59871\n",
      "[91]\tvalid_0's rmse: 5.59871\n",
      "[92]\tvalid_0's rmse: 5.59871\n",
      "[93]\tvalid_0's rmse: 5.59871\n",
      "[94]\tvalid_0's rmse: 5.59871\n",
      "[95]\tvalid_0's rmse: 5.59871\n",
      "[96]\tvalid_0's rmse: 5.59871\n",
      "[97]\tvalid_0's rmse: 5.5987\n",
      "[98]\tvalid_0's rmse: 5.5987\n",
      "[99]\tvalid_0's rmse: 5.5987\n",
      "[100]\tvalid_0's rmse: 5.59869\n",
      "[101]\tvalid_0's rmse: 5.59869\n",
      "[102]\tvalid_0's rmse: 5.59868\n",
      "[103]\tvalid_0's rmse: 5.59868\n",
      "[104]\tvalid_0's rmse: 5.59867\n",
      "[105]\tvalid_0's rmse: 5.59866\n",
      "[106]\tvalid_0's rmse: 5.59867\n",
      "[107]\tvalid_0's rmse: 5.59867\n",
      "[108]\tvalid_0's rmse: 5.59867\n",
      "[109]\tvalid_0's rmse: 5.59867\n",
      "[110]\tvalid_0's rmse: 5.59867\n",
      "[111]\tvalid_0's rmse: 5.59867\n",
      "[112]\tvalid_0's rmse: 5.59867\n",
      "[113]\tvalid_0's rmse: 5.59866\n",
      "[114]\tvalid_0's rmse: 5.59866\n",
      "[115]\tvalid_0's rmse: 5.59865\n",
      "[116]\tvalid_0's rmse: 5.59864\n",
      "[117]\tvalid_0's rmse: 5.59864\n",
      "[118]\tvalid_0's rmse: 5.59864\n",
      "[119]\tvalid_0's rmse: 5.59864\n",
      "[120]\tvalid_0's rmse: 5.59863\n",
      "[121]\tvalid_0's rmse: 5.59863\n",
      "[122]\tvalid_0's rmse: 5.59863\n",
      "[123]\tvalid_0's rmse: 5.59863\n",
      "[124]\tvalid_0's rmse: 5.59863\n",
      "[125]\tvalid_0's rmse: 5.59863\n",
      "[126]\tvalid_0's rmse: 5.59863\n",
      "[127]\tvalid_0's rmse: 5.59864\n",
      "[128]\tvalid_0's rmse: 5.59864\n",
      "[129]\tvalid_0's rmse: 5.59864\n",
      "[130]\tvalid_0's rmse: 5.59864\n",
      "[131]\tvalid_0's rmse: 5.59863\n",
      "[132]\tvalid_0's rmse: 5.59863\n",
      "[133]\tvalid_0's rmse: 5.59863\n",
      "[134]\tvalid_0's rmse: 5.59863\n",
      "[135]\tvalid_0's rmse: 5.59863\n",
      "[136]\tvalid_0's rmse: 5.59863\n",
      "[137]\tvalid_0's rmse: 5.59863\n",
      "[138]\tvalid_0's rmse: 5.59863\n",
      "[139]\tvalid_0's rmse: 5.59863\n",
      "[140]\tvalid_0's rmse: 5.59863\n",
      "[141]\tvalid_0's rmse: 5.59863\n",
      "[142]\tvalid_0's rmse: 5.59862\n",
      "[143]\tvalid_0's rmse: 5.59862\n",
      "[144]\tvalid_0's rmse: 5.59862\n",
      "[145]\tvalid_0's rmse: 5.59862\n",
      "[146]\tvalid_0's rmse: 5.59862\n",
      "[147]\tvalid_0's rmse: 5.59863\n",
      "[148]\tvalid_0's rmse: 5.59863\n",
      "[149]\tvalid_0's rmse: 5.59863\n",
      "[150]\tvalid_0's rmse: 5.59863\n",
      "[151]\tvalid_0's rmse: 5.59863\n",
      "[152]\tvalid_0's rmse: 5.59862\n",
      "[153]\tvalid_0's rmse: 5.59862\n",
      "[154]\tvalid_0's rmse: 5.59862\n",
      "[155]\tvalid_0's rmse: 5.59862\n",
      "[156]\tvalid_0's rmse: 5.59862\n",
      "[157]\tvalid_0's rmse: 5.59862\n",
      "[158]\tvalid_0's rmse: 5.59862\n",
      "[159]\tvalid_0's rmse: 5.59862\n",
      "[160]\tvalid_0's rmse: 5.59862\n",
      "[161]\tvalid_0's rmse: 5.59861\n",
      "[162]\tvalid_0's rmse: 5.59861\n",
      "[163]\tvalid_0's rmse: 5.59861\n",
      "[164]\tvalid_0's rmse: 5.5986\n",
      "[165]\tvalid_0's rmse: 5.5986\n",
      "[166]\tvalid_0's rmse: 5.5986\n",
      "[167]\tvalid_0's rmse: 5.5986\n",
      "[168]\tvalid_0's rmse: 5.59861\n",
      "[169]\tvalid_0's rmse: 5.59861\n",
      "[170]\tvalid_0's rmse: 5.59861\n",
      "[171]\tvalid_0's rmse: 5.59861\n",
      "[172]\tvalid_0's rmse: 5.5986\n",
      "[173]\tvalid_0's rmse: 5.5986\n",
      "[174]\tvalid_0's rmse: 5.5986\n",
      "[175]\tvalid_0's rmse: 5.5986\n",
      "[176]\tvalid_0's rmse: 5.5986\n",
      "[177]\tvalid_0's rmse: 5.5986\n",
      "[178]\tvalid_0's rmse: 5.5986\n",
      "[179]\tvalid_0's rmse: 5.5986\n",
      "[180]\tvalid_0's rmse: 5.5986\n",
      "[181]\tvalid_0's rmse: 5.5986\n",
      "[182]\tvalid_0's rmse: 5.5986\n",
      "[183]\tvalid_0's rmse: 5.59859\n",
      "[184]\tvalid_0's rmse: 5.59859\n",
      "[185]\tvalid_0's rmse: 5.59859\n",
      "[186]\tvalid_0's rmse: 5.59859\n",
      "[187]\tvalid_0's rmse: 5.59859\n",
      "[188]\tvalid_0's rmse: 5.59858\n",
      "[189]\tvalid_0's rmse: 5.59858\n",
      "[190]\tvalid_0's rmse: 5.59858\n",
      "[191]\tvalid_0's rmse: 5.59858\n",
      "[192]\tvalid_0's rmse: 5.59858\n",
      "[193]\tvalid_0's rmse: 5.59858\n",
      "[194]\tvalid_0's rmse: 5.59859\n",
      "[195]\tvalid_0's rmse: 5.59859\n",
      "[196]\tvalid_0's rmse: 5.59859\n",
      "[197]\tvalid_0's rmse: 5.59859\n",
      "[198]\tvalid_0's rmse: 5.59859\n",
      "[199]\tvalid_0's rmse: 5.59859\n",
      "[200]\tvalid_0's rmse: 5.59859\n",
      "[201]\tvalid_0's rmse: 5.59859\n",
      "[202]\tvalid_0's rmse: 5.59858\n",
      "[203]\tvalid_0's rmse: 5.59858\n",
      "[204]\tvalid_0's rmse: 5.59858\n",
      "[205]\tvalid_0's rmse: 5.59858\n",
      "[206]\tvalid_0's rmse: 5.59859\n",
      "[207]\tvalid_0's rmse: 5.59859\n",
      "[208]\tvalid_0's rmse: 5.59859\n",
      "[209]\tvalid_0's rmse: 5.59859\n",
      "[210]\tvalid_0's rmse: 5.59859\n",
      "Early stopping, best iteration is:\n",
      "[190]\tvalid_0's rmse: 5.59858\n"
     ]
    }
   ],
   "source": [
    "model_lgb = lgbm.train(params,\n",
    "                lgb_train,                \n",
    "                num_boost_round=500,\n",
    "                valid_sets=lgb_eval,\n",
    "                early_stopping_rounds=20)"
   ]
  },
  {
   "cell_type": "code",
   "execution_count": 175,
   "metadata": {
    "collapsed": true
   },
   "outputs": [],
   "source": [
    "y_pred = model_lgb.predict(test, num_iteration=model_lgb.best_iteration)"
   ]
  },
  {
   "cell_type": "code",
   "execution_count": 176,
   "metadata": {
    "collapsed": true
   },
   "outputs": [],
   "source": [
    "sub = pd.DataFrame({'ID': test_Id, 'ConversionPayOut' : y_pred })\n",
    "sub = sub[['ID','ConversionPayOut'] ]"
   ]
  },
  {
   "cell_type": "code",
   "execution_count": 177,
   "metadata": {},
   "outputs": [
    {
     "data": {
      "text/html": [
       "<div>\n",
       "<style>\n",
       "    .dataframe thead tr:only-child th {\n",
       "        text-align: right;\n",
       "    }\n",
       "\n",
       "    .dataframe thead th {\n",
       "        text-align: left;\n",
       "    }\n",
       "\n",
       "    .dataframe tbody tr th {\n",
       "        vertical-align: top;\n",
       "    }\n",
       "</style>\n",
       "<table border=\"1\" class=\"dataframe\">\n",
       "  <thead>\n",
       "    <tr style=\"text-align: right;\">\n",
       "      <th></th>\n",
       "      <th>ID</th>\n",
       "      <th>ConversionPayOut</th>\n",
       "    </tr>\n",
       "  </thead>\n",
       "  <tbody>\n",
       "    <tr>\n",
       "      <th>0</th>\n",
       "      <td>63367289</td>\n",
       "      <td>0.024476</td>\n",
       "    </tr>\n",
       "    <tr>\n",
       "      <th>1</th>\n",
       "      <td>63367290</td>\n",
       "      <td>0.049632</td>\n",
       "    </tr>\n",
       "    <tr>\n",
       "      <th>2</th>\n",
       "      <td>63367291</td>\n",
       "      <td>0.044863</td>\n",
       "    </tr>\n",
       "    <tr>\n",
       "      <th>3</th>\n",
       "      <td>63367292</td>\n",
       "      <td>0.018343</td>\n",
       "    </tr>\n",
       "    <tr>\n",
       "      <th>4</th>\n",
       "      <td>63367293</td>\n",
       "      <td>0.025013</td>\n",
       "    </tr>\n",
       "  </tbody>\n",
       "</table>\n",
       "</div>"
      ],
      "text/plain": [
       "         ID  ConversionPayOut\n",
       "0  63367289          0.024476\n",
       "1  63367290          0.049632\n",
       "2  63367291          0.044863\n",
       "3  63367292          0.018343\n",
       "4  63367293          0.025013"
      ]
     },
     "execution_count": 177,
     "metadata": {},
     "output_type": "execute_result"
    }
   ],
   "source": [
    "sub.head(5)"
   ]
  },
  {
   "cell_type": "code",
   "execution_count": 178,
   "metadata": {},
   "outputs": [
    {
     "data": {
      "text/plain": [
       "0.037134614476932448"
      ]
     },
     "execution_count": 178,
     "metadata": {},
     "output_type": "execute_result"
    }
   ],
   "source": [
    "sub['ConversionPayOut'].mean()"
   ]
  },
  {
   "cell_type": "code",
   "execution_count": 171,
   "metadata": {
    "collapsed": true
   },
   "outputs": [],
   "source": [
    "sub.to_csv('lgbm_v15-8.csv', index=False)"
   ]
  },
  {
   "cell_type": "code",
   "execution_count": 172,
   "metadata": {},
   "outputs": [
    {
     "data": {
      "text/plain": [
       "139"
      ]
     },
     "execution_count": 172,
     "metadata": {},
     "output_type": "execute_result"
    }
   ],
   "source": [
    "del sub\n",
    "gc.collect()"
   ]
  },
  {
   "cell_type": "code",
   "execution_count": null,
   "metadata": {
    "collapsed": true
   },
   "outputs": [],
   "source": []
  }
 ],
 "metadata": {
  "kernelspec": {
   "display_name": "Python 3",
   "language": "python",
   "name": "python3"
  },
  "language_info": {
   "codemirror_mode": {
    "name": "ipython",
    "version": 3
   },
   "file_extension": ".py",
   "mimetype": "text/x-python",
   "name": "python",
   "nbconvert_exporter": "python",
   "pygments_lexer": "ipython3",
   "version": "3.5.2"
  }
 },
 "nbformat": 4,
 "nbformat_minor": 2
}
